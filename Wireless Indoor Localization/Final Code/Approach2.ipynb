{
  "nbformat": 4,
  "nbformat_minor": 0,
  "metadata": {
    "colab": {
      "name": "Approach2.ipynb",
      "provenance": [],
      "collapsed_sections": [],
      "authorship_tag": "ABX9TyOLc9q/+8c1xPtUZ+29kRQG",
      "include_colab_link": true
    },
    "kernelspec": {
      "name": "python3",
      "display_name": "Python 3"
    },
    "accelerator": "GPU"
  },
  "cells": [
    {
      "cell_type": "markdown",
      "metadata": {
        "id": "view-in-github",
        "colab_type": "text"
      },
      "source": [
        "<a href=\"https://colab.research.google.com/github/akshaysp97/Pattern-Recognition-and-Machine-Learning/blob/master/Wireless%20Indoor%20Localization/Final%20Code/Approach2.ipynb\" target=\"_parent\"><img src=\"https://colab.research.google.com/assets/colab-badge.svg\" alt=\"Open In Colab\"/></a>"
      ]
    },
    {
      "cell_type": "code",
      "metadata": {
        "id": "PXaOmVkY46UZ",
        "colab_type": "code",
        "colab": {
          "base_uri": "https://localhost:8080/",
          "height": 72
        },
        "outputId": "adb2ee01-5b90-435a-8d92-49bb2921ce0e"
      },
      "source": [
        "#Approach 2\n",
        "\"\"\"\n",
        "In this approach we operate on new features generated as nonlinear functions of the given 7 features(nonlinear mapping) \n",
        "where we train and classify data based on the best 40 features selected through feature ranking \n",
        "with recursive feature elimination done in feature_generation_select.py\n",
        "\n",
        "\"\"\"\n",
        "\n",
        "import pandas as pd\n",
        "import numpy as np\n",
        "from matplotlib import pyplot as plt\n",
        "from feature_generation import get_features\n",
        "import seaborn as sns\n",
        "from sklearn.model_selection import train_test_split\n",
        "from sklearn.preprocessing import StandardScaler\n",
        "from sklearn.model_selection import GridSearchCV\n",
        "from sklearn.metrics import confusion_matrix\n",
        "from sklearn.neighbors import KNeighborsClassifier\n",
        "from sklearn.svm import SVC\n",
        "from sklearn.ensemble import RandomForestClassifier\n",
        "from sklearn.naive_bayes import GaussianNB\n",
        "from sklearn.linear_model import LogisticRegression\n",
        "from sklearn.model_selection import cross_val_score\n",
        "from sklearn.preprocessing import LabelEncoder\n",
        "from sklearn.neural_network import MLPClassifier\n",
        "from xgboost import XGBClassifier\n",
        "from sklearn.metrics import f1_score\n",
        "pd.set_option('display.max_columns', None)\n",
        "pd.set_option('display.max_rows', None)"
      ],
      "execution_count": null,
      "outputs": [
        {
          "output_type": "stream",
          "text": [
            "/usr/local/lib/python3.6/dist-packages/statsmodels/tools/_testing.py:19: FutureWarning: pandas.util.testing is deprecated. Use the functions in the public API at pandas.testing instead.\n",
            "  import pandas.util.testing as tm\n"
          ],
          "name": "stderr"
        }
      ]
    },
    {
      "cell_type": "code",
      "metadata": {
        "id": "UWTyqfijQVYb",
        "colab_type": "code",
        "colab": {}
      },
      "source": [
        "#Read Training data\n",
        "df = pd.read_csv('D_Train1.csv')\n",
        "X = df.drop(columns = ['Location'])\n",
        "y = df['Location']"
      ],
      "execution_count": null,
      "outputs": []
    },
    {
      "cell_type": "code",
      "metadata": {
        "id": "IDRCX4g_nsA3",
        "colab_type": "code",
        "colab": {}
      },
      "source": [
        "X = get_features(X)"
      ],
      "execution_count": null,
      "outputs": []
    },
    {
      "cell_type": "code",
      "metadata": {
        "id": "wOdTePIH8AxV",
        "colab_type": "code",
        "colab": {}
      },
      "source": [
        "selected = ['WS1',\n",
        " 'WS2',\n",
        " 'WS3',\n",
        " 'WS4',\n",
        " 'WS5',\n",
        " 'WS6',\n",
        " 'WS7',\n",
        " 'mean',\n",
        " 'std',\n",
        " 'WS1_scaled',\n",
        " 'WS2_scaled',\n",
        " 'WS3_scaled',\n",
        " 'WS4_scaled',\n",
        " 'WS5_scaled',\n",
        " 'WS1_max_ws',\n",
        " 'WS1_max_ws_dist',\n",
        " 'WS1_scaled_max_ws_dist',\n",
        " 'WS3_scaled_max_ws_dist',\n",
        " 'WS5_scaled_max_ws_dist',\n",
        " 'WS1_min_ws_dist',\n",
        " 'WS4_min_ws_dist',\n",
        " 'WS7_min_ws_dist',\n",
        " 'mean_min_ws_dist',\n",
        " 'std_min_ws_dist',\n",
        " 'WS1_scaled_min_ws_dist',\n",
        " 'WS2_scaled_min_ws_dist',\n",
        " 'WS4_scaled_min_ws_dist',\n",
        " 'WS5_scaled_min_ws_dist',\n",
        " 'WS7_scaled_min_ws_dist',\n",
        " 'WS2_max_ws_min_ws_dist',\n",
        " 'WS4_scaled_max_ws_min_ws_dist',\n",
        " 'WS5_scaled_max_ws_min_ws_dist',\n",
        " 'WS3_max_ws_dist_min_ws_dist',\n",
        " 'WS6_scaled_max_ws_dist_min_ws_dist',\n",
        " 'WS1_scaled_min_max_dist',\n",
        " 'WS5_max_ws_dist_min_max_dist',\n",
        " 'mean_max_ws_dist_min_max_dist',\n",
        " 'WS2_scaled_max_ws_dist_min_max_dist',\n",
        " 'WS3_scaled_max_ws_dist_min_ws_dist_min_max_dist',\n",
        " 'WS5_scaled_max_ws_dist_min_ws_dist_min_max_dist']"
      ],
      "execution_count": null,
      "outputs": []
    },
    {
      "cell_type": "code",
      "metadata": {
        "id": "Q4uc-qc4sR-k",
        "colab_type": "code",
        "colab": {}
      },
      "source": [
        "X = X[selected]"
      ],
      "execution_count": null,
      "outputs": []
    },
    {
      "cell_type": "code",
      "metadata": {
        "id": "ISdrmwkxsJRb",
        "colab_type": "code",
        "colab": {}
      },
      "source": [
        "#Split arrays or matrices into random train and validation subsets\n",
        "X_train, X_val, y_train, y_val = train_test_split(X,y,test_size = 0.2, random_state = 0,stratify=y)"
      ],
      "execution_count": null,
      "outputs": []
    },
    {
      "cell_type": "code",
      "metadata": {
        "id": "r_mpSyQBezy-",
        "colab_type": "code",
        "colab": {
          "base_uri": "https://localhost:8080/",
          "height": 35
        },
        "outputId": "3b630de4-0470-4e34-a7ec-39d45307778d"
      },
      "source": [
        "#Standardization of the Dataset\n",
        "x_scaler = StandardScaler()\n",
        "X_train = x_scaler.fit_transform(X_train)\n",
        "X_val = x_scaler.transform(X_val)\n",
        "X_train.shape"
      ],
      "execution_count": null,
      "outputs": [
        {
          "output_type": "execute_result",
          "data": {
            "text/plain": [
              "(1280, 40)"
            ]
          },
          "metadata": {
            "tags": []
          },
          "execution_count": 7
        }
      ]
    },
    {
      "cell_type": "code",
      "metadata": {
        "id": "EYuxSgCsfl7z",
        "colab_type": "code",
        "colab": {}
      },
      "source": [
        "#Function to plot Confusion Matrix\n",
        "def plot_conf(c_mat):\n",
        "    plt.figure()                    #Citation - from matplotlib.org matplotlip API reference documentation\n",
        "    ax = sns.heatmap(c_mat,annot=True,fmt='d',cmap=\"YlGnBu\")       ##Citation - seaborn.pydata.org seaborn documentation\n",
        "    plt.title('Confusion Matrix')  \n",
        "    plt.xlabel('Predicted')\n",
        "    plt.ylabel('True')"
      ],
      "execution_count": null,
      "outputs": []
    },
    {
      "cell_type": "code",
      "metadata": {
        "id": "6m2gU_-Bfq9T",
        "colab_type": "code",
        "colab": {}
      },
      "source": [
        "#Baseline System Naive Bayes\n",
        "nb = GaussianNB()                   #Citation - scikit-learn.org sklearn API reference documentation\n",
        "nb.fit(X_train, y_train)\n",
        "y_pred = nb.predict(X_val)"
      ],
      "execution_count": null,
      "outputs": []
    },
    {
      "cell_type": "code",
      "metadata": {
        "id": "LlFF3gdKnMbX",
        "colab_type": "code",
        "colab": {
          "base_uri": "https://localhost:8080/",
          "height": 88
        },
        "outputId": "a2a841d0-b129-45b1-e37f-d469aedaa150"
      },
      "source": [
        "print(\"Training Accuracy:\", nb.score(X_train, y_train))\n",
        "print(\"Validation Set Accuracy:\", nb.score(X_val, y_val))      \n",
        "cross_val = cross_val_score(nb, x_scaler.transform(X), y, cv=5)       #Citation - scikit-learn.org sklearn API reference documentation\n",
        "print(\"Mean Cross-Validation Accuracy:\", np.mean(cross_val))          #Citation - scipy.org numpy documentation\n",
        "print(\"Standard deviation:\", np.std(cross_val))"
      ],
      "execution_count": null,
      "outputs": [
        {
          "output_type": "stream",
          "text": [
            "Training Accuracy: 0.96796875\n",
            "Validation Set Accuracy: 0.975\n",
            "Mean Cross-Validation Accuracy: 0.97\n",
            "Standard deviation: 0.0054486236794258555\n"
          ],
          "name": "stdout"
        }
      ]
    },
    {
      "cell_type": "code",
      "metadata": {
        "id": "4YQzPbdwftFs",
        "colab_type": "code",
        "colab": {
          "base_uri": "https://localhost:8080/",
          "height": 295
        },
        "outputId": "09777b01-cea2-4279-f374-b8bf82e7fc5c"
      },
      "source": [
        "#Confusion matrix for Validation Data\n",
        "conf_mat = confusion_matrix(y_val, y_pred)        #Citation - scikit-learn.org sklearn API reference documentation\n",
        "plot_conf(conf_mat)"
      ],
      "execution_count": null,
      "outputs": [
        {
          "output_type": "display_data",
          "data": {
            "image/png": "[encoded data removed]",
            "text/plain": [
              "<Figure size 432x288 with 2 Axes>"
            ]
          },
          "metadata": {
            "tags": [],
            "needs_background": "light"
          }
        }
      ]
    },
    {
      "cell_type": "code",
      "metadata": {
        "id": "fMaiRJOhf1_n",
        "colab_type": "code",
        "colab": {
          "base_uri": "https://localhost:8080/",
          "height": 35
        },
        "outputId": "00c0b881-5d8f-4ecd-9c2b-6dff43a474e2"
      },
      "source": [
        "#Logistic Regression classifier.\n",
        "c = [0.001,0.01, 0.1, 1, 10, 50, 100, 200]                #Citation - scipy.org numpy documentation\n",
        "param_grid = {'C':c}\n",
        "\n",
        "grid_search = GridSearchCV(LogisticRegression(),param_grid,cv=5,n_jobs=-1)           #Citation - scikit-learn.org sklearn API reference documentation\n",
        "grid_result = grid_search.fit(X_train,y_train)\n",
        "\n",
        "print(\"The best parameter:\", grid_result.best_params_)\n",
        "\n",
        "lr = LogisticRegression(C = grid_result.best_params_['C'], penalty = 'l2',       \n",
        "                        solver='lbfgs',multi_class='multinomial', n_jobs = -1)          #Citation - scikit-learn.org sklearn API reference documentation\n",
        "lr_fit = lr.fit(X_train,y_train)\n",
        "y_pred = lr.predict(X_val)"
      ],
      "execution_count": null,
      "outputs": [
        {
          "output_type": "stream",
          "text": [
            "The best parameter: {'C': 0.1}\n"
          ],
          "name": "stdout"
        }
      ]
    },
    {
      "cell_type": "code",
      "metadata": {
        "id": "MX4X3EdynmS-",
        "colab_type": "code",
        "colab": {
          "base_uri": "https://localhost:8080/",
          "height": 88
        },
        "outputId": "2287b776-672c-4ff5-b15d-dc0c36165875"
      },
      "source": [
        "print(\"Training Accuracy:\", lr.score(X_train, y_train))\n",
        "print(\"Validation Accuracy:\", lr.score(X_val, y_val))\n",
        "cross_val = cross_val_score(lr, x_scaler.transform(X), y, cv=5)                       #Citation - scikit-learn.org sklearn API reference documentation\n",
        "print(\"Mean Cross-Validation Accuracy:\", np.mean(cross_val))                         \n",
        "print(\"Standard deviation:\", np.std(cross_val))"
      ],
      "execution_count": null,
      "outputs": [
        {
          "output_type": "stream",
          "text": [
            "Training Accuracy: 0.984375\n",
            "Validation Accuracy: 0.990625\n",
            "Mean Cross-Validation Accuracy: 0.98375\n",
            "Standard deviation: 0.006373774391990973\n"
          ],
          "name": "stdout"
        }
      ]
    },
    {
      "cell_type": "code",
      "metadata": {
        "id": "z9f9ctEJnqkB",
        "colab_type": "code",
        "colab": {
          "base_uri": "https://localhost:8080/",
          "height": 295
        },
        "outputId": "27ecf0a5-2c9c-4d8f-928d-fcd17ac551fd"
      },
      "source": [
        "#Confusion matrix for Validation Data\n",
        "conf_mat = confusion_matrix(y_val, y_pred)                      #Citation - scikit-learn.org sklearn API reference documentation\n",
        "plot_conf(conf_mat)"
      ],
      "execution_count": null,
      "outputs": [
        {
          "output_type": "display_data",
          "data": {
            "image/png": "[encoded data removed]",
            "text/plain": [
              "<Figure size 432x288 with 2 Axes>"
            ]
          },
          "metadata": {
            "tags": [],
            "needs_background": "light"
          }
        }
      ]
    },
    {
      "cell_type": "code",
      "metadata": {
        "id": "psa3XN_Kf9kl",
        "colab_type": "code",
        "colab": {
          "base_uri": "https://localhost:8080/",
          "height": 35
        },
        "outputId": "f2ff814d-ebbb-4476-92cd-54ae6e0e4052"
      },
      "source": [
        "#SVM classifier\n",
        "c = [0.01, 0.1, 1, 10, 50, 100, 200]\n",
        "gamma = [0.001, 0.01, 0.1, 1, 10]\n",
        "\n",
        "param_grid = {'C':c, 'gamma':gamma}\n",
        "\n",
        "grid_search = GridSearchCV(SVC(),param_grid,cv=5,n_jobs=-1)                                 #Citation - scikit-learn.org sklearn API reference documentation\n",
        "grid_result = grid_search.fit(X_train,y_train)\n",
        "\n",
        "print(\"The best parameters:\", grid_result.best_params_)\n",
        "\n",
        "svc = SVC(kernel = 'rbf', C = grid_result.best_params_['C'],                      #Citation - scikit-learn.org sklearn API reference documentation\n",
        "          gamma = grid_result.best_params_['gamma'], probability=True)  \n",
        "svc.fit(X_train,y_train)\n",
        "y_pred = svc.predict(X_val)"
      ],
      "execution_count": null,
      "outputs": [
        {
          "output_type": "stream",
          "text": [
            "The best parameters: {'C': 50, 'gamma': 0.001}\n"
          ],
          "name": "stdout"
        }
      ]
    },
    {
      "cell_type": "code",
      "metadata": {
        "id": "5VmRvKlYn3DZ",
        "colab_type": "code",
        "colab": {
          "base_uri": "https://localhost:8080/",
          "height": 88
        },
        "outputId": "0f553933-eaf6-4eb4-80a1-111d2d9bf0d8"
      },
      "source": [
        "print(\"Training Accuracy:\", svc.score(X_train, y_train))\n",
        "print(\"Validation Accuracy:\", svc.score(X_val, y_val))\n",
        "cross_val = cross_val_score(svc, x_scaler.transform(X), y, cv=5)\n",
        "print(\"Mean Cross-Validation Accuracy:\", np.mean(cross_val))\n",
        "print(\"Standard deviation:\", np.std(cross_val))"
      ],
      "execution_count": null,
      "outputs": [
        {
          "output_type": "stream",
          "text": [
            "Training Accuracy: 0.9859375\n",
            "Validation Accuracy: 0.990625\n",
            "Mean Cross-Validation Accuracy: 0.984375\n",
            "Standard deviation: 0.007126096406869616\n"
          ],
          "name": "stdout"
        }
      ]
    },
    {
      "cell_type": "code",
      "metadata": {
        "id": "DRaNhq8vgJ0w",
        "colab_type": "code",
        "colab": {
          "base_uri": "https://localhost:8080/",
          "height": 295
        },
        "outputId": "152d6f66-64ae-46ef-dbd3-8e72e0a0b6a5"
      },
      "source": [
        "#Confusion matrix for Validation Data\n",
        "conf_mat = confusion_matrix(y_val, y_pred)                      #Citation - scikit-learn.org sklearn API reference documentation\n",
        "plot_conf(conf_mat)"
      ],
      "execution_count": null,
      "outputs": [
        {
          "output_type": "display_data",
          "data": {
            "image/png": "[encoded data removed]",
            "text/plain": [
              "<Figure size 432x288 with 2 Axes>"
            ]
          },
          "metadata": {
            "tags": [],
            "needs_background": "light"
          }
        }
      ]
    },
    {
      "cell_type": "code",
      "metadata": {
        "id": "y53ldxWsgQXV",
        "colab_type": "code",
        "colab": {
          "base_uri": "https://localhost:8080/",
          "height": 35
        },
        "outputId": "960d3381-9dd0-4cab-8fab-3289d6412e66"
      },
      "source": [
        "#XGB Classififer\n",
        "rates = [0.01,0.05,0.1,0.15,0.2]\n",
        "n = [10, 50, 100, 200]\n",
        "depth_values = range(1,20,1)\n",
        "\n",
        "param_grid  = {'learning_rate':rates,'n_estimators':n, 'max_depth':depth_values, 'random_state':[0]} \n",
        "\n",
        "grid_search = GridSearchCV(XGBClassifier(),param_grid,cv=5)                             #Citation - scikit-learn.org sklearn API reference documentation\n",
        "grid_result = grid_search.fit(X_train,y_train)\n",
        "\n",
        "print(\"The best parameters:\",grid_result.best_params_)\n",
        "xgb = XGBClassifier(n_estimators=grid_result.best_params_['n_estimators'],                      #Citation - scikit-learn.org sklearn API reference documentation\n",
        "                                learning_rate = grid_result.best_params_['learning_rate'],\n",
        "                                max_depth = grid_result.best_params_['max_depth'],\n",
        "                                objective='multi:softmax', n_jobs = -1, random_state=0)\n",
        "\n",
        "xgb.fit(X_train,y_train)\n",
        "y_pred = xgb.predict(X_val)"
      ],
      "execution_count": null,
      "outputs": [
        {
          "output_type": "stream",
          "text": [
            "The best parameters: {'learning_rate': 0.15, 'max_depth': 1, 'n_estimators': 100, 'random_state': 0}\n"
          ],
          "name": "stdout"
        }
      ]
    },
    {
      "cell_type": "code",
      "metadata": {
        "id": "c5sS9MlCoHgi",
        "colab_type": "code",
        "colab": {
          "base_uri": "https://localhost:8080/",
          "height": 88
        },
        "outputId": "4d0b15ab-9ea9-4fb0-8448-038ee50c9089"
      },
      "source": [
        "print(\"Training Accuracy:\", xgb.score(X_train, y_train))\n",
        "print(\"Validation Accuracy:\", xgb.score(X_val, y_val))\n",
        "cross_val = cross_val_score(xgb, x_scaler.transform(X), y, cv=5)\n",
        "print(\"Mean Cross-Validation Accuracy:\", np.mean(cross_val))\n",
        "print(\"Standard deviation:\", np.std(cross_val))"
      ],
      "execution_count": null,
      "outputs": [
        {
          "output_type": "stream",
          "text": [
            "Training Accuracy: 0.9921875\n",
            "Validation Accuracy: 0.990625\n",
            "Mean Cross-Validation Accuracy: 0.984375\n",
            "Standard deviation: 0.0059292706128157135\n"
          ],
          "name": "stdout"
        }
      ]
    },
    {
      "cell_type": "code",
      "metadata": {
        "id": "nj7ZH17-gS40",
        "colab_type": "code",
        "colab": {
          "base_uri": "https://localhost:8080/",
          "height": 295
        },
        "outputId": "4e05c375-70d1-4e58-f9c0-2310710b75d0"
      },
      "source": [
        "#Confusion matrix for Validation Data\n",
        "conf_mat = confusion_matrix(y_val, y_pred)                #Citation - scikit-learn.org sklearn API reference documentation\n",
        "plot_conf(conf_mat)"
      ],
      "execution_count": null,
      "outputs": [
        {
          "output_type": "display_data",
          "data": {
            "image/png": "[encoded data removed]",
            "text/plain": [
              "<Figure size 432x288 with 2 Axes>"
            ]
          },
          "metadata": {
            "tags": [],
            "needs_background": "light"
          }
        }
      ]
    },
    {
      "cell_type": "code",
      "metadata": {
        "id": "PGpm-jw5gYAh",
        "colab_type": "code",
        "colab": {
          "base_uri": "https://localhost:8080/",
          "height": 35
        },
        "outputId": "1dc7f658-e042-480c-f333-0b01274789e7"
      },
      "source": [
        "#KNN Classifier\n",
        "k = list(range(1,11))\n",
        "weights = ['uniform','distance']\n",
        "\n",
        "param_grid = {'n_neighbors':k,'weights': weights}\n",
        "grid_search = GridSearchCV(KNeighborsClassifier(),param_grid,cv=5,n_jobs=-1)             #Citation - scikit-learn.org sklearn API reference documentation\n",
        "grid_result = grid_search.fit(X_train,y_train)\n",
        "\n",
        "print(\"The best parameters:\", grid_result.best_params_)\n",
        "\n",
        "knn = KNeighborsClassifier(n_neighbors = grid_result.best_params_['n_neighbors'],             #Citation - scikit-learn.org sklearn API reference documentation\n",
        "                           weights = grid_result.best_params_['weights'], n_jobs = -1)\n",
        "knn.fit(X_train,y_train)\n",
        "y_pred = knn.predict(X_val)"
      ],
      "execution_count": null,
      "outputs": [
        {
          "output_type": "stream",
          "text": [
            "The best parameters: {'n_neighbors': 3, 'weights': 'uniform'}\n"
          ],
          "name": "stdout"
        }
      ]
    },
    {
      "cell_type": "code",
      "metadata": {
        "id": "edNkBddZokil",
        "colab_type": "code",
        "colab": {
          "base_uri": "https://localhost:8080/",
          "height": 88
        },
        "outputId": "6846f8dd-ad1d-4f97-e428-931ff79df346"
      },
      "source": [
        "print(\"Training Accuracy:\", knn.score(X_train, y_train))\n",
        "print(\"Validation Accuracy:\", knn.score(X_val, y_val))\n",
        "cross_val = cross_val_score(knn, x_scaler.transform(X), y, cv=5)\n",
        "print(\"Mean Cross-Validation Accuracy:\", np.mean(cross_val))\n",
        "print(\"Standard deviation:\", np.std(cross_val))"
      ],
      "execution_count": null,
      "outputs": [
        {
          "output_type": "stream",
          "text": [
            "Training Accuracy: 0.990625\n",
            "Validation Accuracy: 0.978125\n",
            "Mean Cross-Validation Accuracy: 0.975\n",
            "Standard deviation: 0.010825317547305507\n"
          ],
          "name": "stdout"
        }
      ]
    },
    {
      "cell_type": "code",
      "metadata": {
        "id": "l0Yynd98gZ1m",
        "colab_type": "code",
        "colab": {
          "base_uri": "https://localhost:8080/",
          "height": 295
        },
        "outputId": "3cfb41d8-c165-43ed-c77c-284c24ac6763"
      },
      "source": [
        "#Confusion matrix for Validation Data\n",
        "conf_mat = confusion_matrix(y_val, y_pred)\n",
        "plot_conf(conf_mat)"
      ],
      "execution_count": null,
      "outputs": [
        {
          "output_type": "display_data",
          "data": {
            "image/png": "[encoded data removed]",
            "text/plain": [
              "<Figure size 432x288 with 2 Axes>"
            ]
          },
          "metadata": {
            "tags": [],
            "needs_background": "light"
          }
        }
      ]
    },
    {
      "cell_type": "code",
      "metadata": {
        "id": "G1O7G46Xggfw",
        "colab_type": "code",
        "colab": {
          "base_uri": "https://localhost:8080/",
          "height": 35
        },
        "outputId": "f93e2c6d-a569-4db6-ab2c-7f906dce42ad"
      },
      "source": [
        "#Random Forest Classifier\n",
        "max_depth = list(range(1,20,1))\n",
        "n = [10, 50, 100, 200]\n",
        "\n",
        "param_grid = {'max_depth':max_depth,'n_estimators':n,'random_state':[0]}          \n",
        "grid_search = GridSearchCV(RandomForestClassifier(),param_grid,cv=5,n_jobs=-1)                   #Citation - scikit-learn.org sklearn API reference documentation\n",
        "grid_result = grid_search.fit(X_train,y_train)\n",
        "\n",
        "print(\"The best parameters:\",grid_result.best_params_)\n",
        "\n",
        "rf = RandomForestClassifier(n_estimators = grid_result.best_params_['n_estimators'],      #Citation - scikit-learn.org sklearn API reference documentation\n",
        "                            max_depth = grid_result.best_params_['max_depth'],\n",
        "                            n_jobs = -1, random_state=0)\n",
        "rf.fit(X_train,y_train)\n",
        "y_pred = rf.predict(X_val)"
      ],
      "execution_count": null,
      "outputs": [
        {
          "output_type": "stream",
          "text": [
            "The best parameters: {'max_depth': 6, 'n_estimators': 200, 'random_state': 0}\n"
          ],
          "name": "stdout"
        }
      ]
    },
    {
      "cell_type": "code",
      "metadata": {
        "id": "rwbUJg9eosKd",
        "colab_type": "code",
        "colab": {
          "base_uri": "https://localhost:8080/",
          "height": 88
        },
        "outputId": "ce1d9676-7065-4287-8dd0-fa7af83e62de"
      },
      "source": [
        "print(\"Training Accuracy:\", rf.score(X_train, y_train))\n",
        "print(\"Validation Data Accuracy:\", rf.score(X_val, y_val))\n",
        "cross_val = cross_val_score(rf, x_scaler.transform(X), y, cv=5)\n",
        "print(\"Mean Cross-Validation Accuracy:\", np.mean(cross_val))\n",
        "print(\"Standard deviation:\", np.std(cross_val))"
      ],
      "execution_count": null,
      "outputs": [
        {
          "output_type": "stream",
          "text": [
            "Training Accuracy: 0.99140625\n",
            "Validation Data Accuracy: 0.98125\n",
            "Mean Cross-Validation Accuracy: 0.9825000000000002\n",
            "Standard deviation: 0.0031868871959955056\n"
          ],
          "name": "stdout"
        }
      ]
    },
    {
      "cell_type": "code",
      "metadata": {
        "id": "4hlWtgdhgiYO",
        "colab_type": "code",
        "colab": {
          "base_uri": "https://localhost:8080/",
          "height": 295
        },
        "outputId": "3813b31b-2154-4146-951c-3b3f6e717557"
      },
      "source": [
        "#Confusion matrix for Validation Data\n",
        "conf_mat = confusion_matrix(y_val, y_pred)\n",
        "plot_conf(conf_mat)"
      ],
      "execution_count": null,
      "outputs": [
        {
          "output_type": "display_data",
          "data": {
            "image/png": "[encoded data removed]",
            "text/plain": [
              "<Figure size 432x288 with 2 Axes>"
            ]
          },
          "metadata": {
            "tags": [],
            "needs_background": "light"
          }
        }
      ]
    },
    {
      "cell_type": "code",
      "metadata": {
        "id": "NQm_TpmDP6uV",
        "colab_type": "code",
        "colab": {
          "base_uri": "https://localhost:8080/",
          "height": 35
        },
        "outputId": "c46ac20d-2c84-431a-cba9-c68d0947d27c"
      },
      "source": [
        "#MLP Classifier\n",
        "alpha = 10.0 ** -np.arange(1, 10)\n",
        "max_iter = [800,1000,1500]\n",
        "\n",
        "param_grid = {'alpha':alpha,'max_iter':max_iter,'random_state':[0]}          \n",
        "grid_search = GridSearchCV(MLPClassifier(),param_grid,cv=5)                   #Citation - scikit-learn.org sklearn API reference documentation\n",
        "grid_result = grid_search.fit(X_train,y_train)\n",
        "\n",
        "print(\"The best parameters:\",grid_result.best_params_)\n",
        "\n",
        "mlp = MLPClassifier(alpha = grid_result.best_params_['alpha'],                    #Citation - scikit-learn.org sklearn API reference documentation\n",
        "                    max_iter = grid_result.best_params_['max_iter'],random_state=0)\n",
        "mlp.fit(X_train,y_train)\n",
        "y_pred = mlp.predict(X_val)"
      ],
      "execution_count": null,
      "outputs": [
        {
          "output_type": "stream",
          "text": [
            "The best parameters: {'alpha': 0.001, 'max_iter': 800, 'random_state': 0}\n"
          ],
          "name": "stdout"
        }
      ]
    },
    {
      "cell_type": "code",
      "metadata": {
        "id": "39IjDCidczfp",
        "colab_type": "code",
        "colab": {
          "base_uri": "https://localhost:8080/",
          "height": 88
        },
        "outputId": "2265547a-b7a3-4582-8aaa-92320de6aedd"
      },
      "source": [
        "print(\"Training Accuracy:\", mlp.score(X_train, y_train))\n",
        "print(\"Validation Accuracy:\", mlp.score(X_val, y_val))\n",
        "cross_val = cross_val_score(mlp, x_scaler.transform(X), y, cv=5)\n",
        "print(\"Mean Cross-Validation Accuracy:\", np.mean(cross_val))\n",
        "print(\"Standard deviation:\", np.std(cross_val))"
      ],
      "execution_count": null,
      "outputs": [
        {
          "output_type": "stream",
          "text": [
            "Training Accuracy: 1.0\n",
            "Validation Accuracy: 0.996875\n",
            "Mean Cross-Validation Accuracy: 0.985\n",
            "Standard deviation: 0.0036443449342783304\n"
          ],
          "name": "stdout"
        }
      ]
    },
    {
      "cell_type": "code",
      "metadata": {
        "id": "y5T2qGpqc3OD",
        "colab_type": "code",
        "colab": {
          "base_uri": "https://localhost:8080/",
          "height": 295
        },
        "outputId": "24372bee-6429-4eab-df19-7f321c17194f"
      },
      "source": [
        "#Confusion matrix for Validation Data\n",
        "conf_mat = confusion_matrix(y_val, y_pred)\n",
        "plot_conf(conf_mat)"
      ],
      "execution_count": null,
      "outputs": [
        {
          "output_type": "display_data",
          "data": {
            "image/png": "[encoded data removed]",
            "text/plain": [
              "<Figure size 432x288 with 2 Axes>"
            ]
          },
          "metadata": {
            "tags": [],
            "needs_background": "light"
          }
        }
      ]
    },
    {
      "cell_type": "code",
      "metadata": {
        "id": "37adM_LYQCSb",
        "colab_type": "code",
        "colab": {}
      },
      "source": [
        "#Read Test data\n",
        "df_test = pd.read_csv('D_Test1.csv')\n",
        "X_test = df_test.drop(columns = ['Location'])\n",
        "y_test = df_test['Location']"
      ],
      "execution_count": null,
      "outputs": []
    },
    {
      "cell_type": "code",
      "metadata": {
        "id": "fNx-vc2cQHwg",
        "colab_type": "code",
        "colab": {}
      },
      "source": [
        "X_test = get_features(X_test)"
      ],
      "execution_count": null,
      "outputs": []
    },
    {
      "cell_type": "code",
      "metadata": {
        "id": "wBj4LNBwQNfD",
        "colab_type": "code",
        "colab": {}
      },
      "source": [
        "X_test = x_scaler.transform(X_test[selected])"
      ],
      "execution_count": null,
      "outputs": []
    },
    {
      "cell_type": "code",
      "metadata": {
        "id": "jhTIRY9SXovc",
        "colab_type": "code",
        "colab": {
          "base_uri": "https://localhost:8080/",
          "height": 35
        },
        "outputId": "7e7bad76-8eff-4a3a-ffaf-897f4f5c65e3"
      },
      "source": [
        "print(\"Test Accuracy:\" , mlp.score(X_test,y_test))"
      ],
      "execution_count": null,
      "outputs": [
        {
          "output_type": "stream",
          "text": [
            "Test Accuracy: 0.9575\n"
          ],
          "name": "stdout"
        }
      ]
    },
    {
      "cell_type": "code",
      "metadata": {
        "id": "dSn5mWl1ex1g",
        "colab_type": "code",
        "colab": {
          "base_uri": "https://localhost:8080/"
        },
        "outputId": "a4db3cce-65f6-4694-f137-4002887edf8c"
      },
      "source": [
        "#Confusion Matrix for Test Data\n",
        "y_pred = mlp.predict(X_test)\n",
        "conf_test = confusion_matrix(y_test, y_pred)           #Citation - scikit-learn.org sklearn API reference documentation\n",
        "plot_conf(conf_test)"
      ],
      "execution_count": null,
      "outputs": [
        {
          "output_type": "display_data",
          "data": {
            "image/png": "[encoded data removed]",
            "text/plain": [
              "<Figure size 432x288 with 2 Axes>"
            ]
          },
          "metadata": {
            "tags": [],
            "needs_background": "light"
          }
        }
      ]
    }
  ]
}