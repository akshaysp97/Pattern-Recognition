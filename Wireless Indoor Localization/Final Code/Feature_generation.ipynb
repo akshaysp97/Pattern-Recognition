{
  "nbformat": 4,
  "nbformat_minor": 0,
  "metadata": {
    "colab": {
      "name": "Feature_generation.ipynb",
      "provenance": [],
      "authorship_tag": "ABX9TyMxJYxVoBDegyu5QXDjN4J2",
      "include_colab_link": true
    },
    "kernelspec": {
      "name": "python3",
      "display_name": "Python 3"
    }
  },
  "cells": [
    {
      "cell_type": "markdown",
      "metadata": {
        "id": "view-in-github",
        "colab_type": "text"
      },
      "source": [
        "<a href=\"https://colab.research.google.com/github/akshaysp97/Pattern-Recognition-and-Machine-Learning/blob/master/Wireless%20Indoor%20Localization/Final%20Code/Feature_generation.ipynb\" target=\"_parent\"><img src=\"https://colab.research.google.com/assets/colab-badge.svg\" alt=\"Open In Colab\"/></a>"
      ]
    },
    {
      "cell_type": "code",
      "metadata": {
        "id": "syMVeIgrgqjN",
        "colab_type": "code",
        "colab": {}
      },
      "source": [
        "import pandas as pd\n",
        "import numpy as np"
      ],
      "execution_count": null,
      "outputs": []
    },
    {
      "cell_type": "code",
      "metadata": {
        "id": "TtnCYA4Agvac",
        "colab_type": "code",
        "colab": {}
      },
      "source": [
        "#Introducing new features as nonlinear functions of the given features(nonlinear mapping)\n",
        "\"\"\"\n",
        "    This function generates features with regard to physical meaning of the features like mean \n",
        "    and standard deviation of the signal power, minimum and maximum values of signal power and scaling.\n",
        "\"\"\"\n",
        "\n",
        "def get_features(X):\n",
        "    for key in X.columns:\n",
        "        X[key] = 10 ** (X[key]/20)\n",
        "    X['mean'] = X.mean(axis=1)\n",
        "    X['std'] = X.std(axis=1)\n",
        "    for key in X.columns:\n",
        "        X[key] = 20*(np.log10(X[key]))                                            #Citation - scipy.org numpy documentation\n",
        "    for key in X.columns:\n",
        "        if key not in ['mean', 'std']:\n",
        "            X[key+'_scaled'] = (X[key] - X['mean']) / X['std']\n",
        "    X['Max_WS'] = X[['WS1', 'WS2', 'WS3', 'WS4', 'WS5', 'WS6', 'WS7']].idxmax(axis = 1)\n",
        "    X['Min_WS'] = X[['WS1', 'WS2', 'WS3', 'WS4', 'WS5', 'WS6', 'WS7']].idxmin(axis=1)\n",
        "    X['Min_Max'] = X['Max_WS'] + X['Min_WS']\n",
        "    max_ws_df = X.groupby('Max_WS').mean().reset_index()\n",
        "    X = X.merge(max_ws_df, on = 'Max_WS', suffixes=('', '_max_ws'), how = 'left')\n",
        "    for key in X.columns:\n",
        "        if '_max_ws' in key:\n",
        "            X[key+'_dist'] = np.fabs(X[key] - X[key[:-len('_max_ws')]])           #Citation - scipy.org numpy documentation\n",
        "    min_ws_df = X.groupby('Min_WS').mean().reset_index()\n",
        "    X = X.merge(min_ws_df, on = 'Min_WS', suffixes=('', '_min_ws'), how = 'left')\n",
        "    for key in X.columns:\n",
        "        if '_min_ws' in key:\n",
        "            X[key+'_dist'] = np.fabs(X[key] - X[key[:-len('_min_ws')]])            #Citation - scipy.org numpy documentation\n",
        "    min_ws_df = X.groupby('Min_Max').mean().reset_index()\n",
        "    X = X.merge(min_ws_df, on = 'Min_Max', suffixes=('', '_min_max'), how = 'left')\n",
        "    for key in X.columns:\n",
        "        if '_min_max' in key:\n",
        "            X[key+'_dist'] = np.fabs(X[key] - X[key[:-len('_min_max')]])\n",
        "    return pd.get_dummies(X)                                                           #Citation - pandas API reference documentation"
      ],
      "execution_count": null,
      "outputs": []
    }
  ]
}