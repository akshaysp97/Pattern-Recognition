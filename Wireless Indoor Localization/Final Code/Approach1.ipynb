{
  "nbformat": 4,
  "nbformat_minor": 0,
  "metadata": {
    "colab": {
      "name": "Approach1.ipynb",
      "provenance": [],
      "collapsed_sections": [],
      "authorship_tag": "ABX9TyNqc0UHesrTU/GC41ycIy12"
    },
    "kernelspec": {
      "name": "python3",
      "display_name": "Python 3"
    }
  },
  "cells": [
    {
      "cell_type": "code",
      "metadata": {
        "id": "kZlVDxfhE52w",
        "colab_type": "code",
        "colab": {
          "base_uri": "https://localhost:8080/",
          "height": 72
        },
        "outputId": "9e13b297-d23e-4df3-f8ab-30673112bd54"
      },
      "source": [
        "#Approach 1\n",
        "\"\"\"\n",
        "Here we are Training and classifying data based on the 7 features corresponding to the 7 WiFi routers from the data set. \n",
        "\"\"\"\n",
        "\n",
        "import pandas as pd\n",
        "import numpy as np\n",
        "from matplotlib import pyplot as plt\n",
        "import seaborn as sns\n",
        "from sklearn.model_selection import train_test_split\n",
        "from sklearn.preprocessing import StandardScaler\n",
        "from sklearn.model_selection import GridSearchCV\n",
        "from sklearn.metrics import accuracy_score\n",
        "from sklearn.metrics import confusion_matrix\n",
        "from sklearn.naive_bayes import GaussianNB\n",
        "from sklearn.linear_model import LogisticRegression\n",
        "from xgboost import XGBClassifier\n",
        "from sklearn.neighbors import KNeighborsClassifier\n",
        "from sklearn.svm import SVC\n",
        "from sklearn.ensemble import RandomForestClassifier\n",
        "from sklearn.neural_network import MLPClassifier\n",
        "from sklearn.model_selection import cross_val_score\n",
        "from sklearn.preprocessing import LabelEncoder"
      ],
      "execution_count": null,
      "outputs": [
        {
          "output_type": "stream",
          "text": [
            "/usr/local/lib/python3.6/dist-packages/statsmodels/tools/_testing.py:19: FutureWarning: pandas.util.testing is deprecated. Use the functions in the public API at pandas.testing instead.\n",
            "  import pandas.util.testing as tm\n"
          ],
          "name": "stderr"
        }
      ]
    },
    {
      "cell_type": "code",
      "metadata": {
        "id": "KIVdzNVLlfJz",
        "colab_type": "code",
        "colab": {}
      },
      "source": [
        "np.random.seed(seed=42)       #Citation - scipy.org numpy documentation"
      ],
      "execution_count": null,
      "outputs": []
    },
    {
      "cell_type": "code",
      "metadata": {
        "id": "R90lzyWllhZX",
        "colab_type": "code",
        "colab": {}
      },
      "source": [
        "#Read Training data\n",
        "df = pd.read_csv('D_Train1.csv')            #Citation - pandas API reference documentation\n",
        "X = df.drop(columns = ['Location'])         #Citation - pandas API reference documentation\n",
        "y = df['Location']"
      ],
      "execution_count": null,
      "outputs": []
    },
    {
      "cell_type": "code",
      "metadata": {
        "id": "bnSYZ3Tkljdu",
        "colab_type": "code",
        "colab": {}
      },
      "source": [
        "#Split arrays or matrices into random train and validation subsets\n",
        "X_train, X_val, y_train, y_val = train_test_split(X,y,test_size = 0.2, random_state = 0,stratify=y)   #Citation - scikit-learn.org sklearn API reference documentation"
      ],
      "execution_count": null,
      "outputs": []
    },
    {
      "cell_type": "code",
      "metadata": {
        "id": "9OP9jUmallQe",
        "colab_type": "code",
        "colab": {
          "base_uri": "https://localhost:8080/",
          "height": 35
        },
        "outputId": "78aa8998-15e9-4dc0-b986-dc54857254da"
      },
      "source": [
        "#Standardization of the Dataset\n",
        "x_scaler = StandardScaler()                    #Citation - scikit-learn.org sklearn API reference documentation\n",
        "X_train = x_scaler.fit_transform(X_train)      #Citation - scikit-learn.org sklearn API reference documentation\n",
        "X_val = x_scaler.transform(X_val)              #Citation - scikit-learn.org sklearn API reference documentation        \n",
        "X_train.shape"
      ],
      "execution_count": null,
      "outputs": [
        {
          "output_type": "execute_result",
          "data": {
            "text/plain": [
              "(1280, 7)"
            ]
          },
          "metadata": {
            "tags": []
          },
          "execution_count": 5
        }
      ]
    },
    {
      "cell_type": "code",
      "metadata": {
        "id": "RcmYNE1alnv-",
        "colab_type": "code",
        "colab": {}
      },
      "source": [
        "#Function to plot Confusion Matrix\n",
        "def plot_conf(c_mat):\n",
        "    plt.figure()                    #Citation - from matplotlib.org matplotlip API reference documentation\n",
        "    ax = sns.heatmap(c_mat,annot=True,fmt='d',cmap=\"YlGnBu\")       ##Citation - seaborn.pydata.org seaborn documentation\n",
        "    plt.title('Confusion Matrix')  \n",
        "    plt.xlabel('Predicted')\n",
        "    plt.ylabel('True')"
      ],
      "execution_count": null,
      "outputs": []
    },
    {
      "cell_type": "code",
      "metadata": {
        "id": "jKOeDCFHlrEb",
        "colab_type": "code",
        "colab": {}
      },
      "source": [
        "#Baseline System Naive Bayes\n",
        "nb = GaussianNB()                   #Citation - scikit-learn.org sklearn API reference documentation\n",
        "nb.fit(X_train, y_train)\n",
        "y_pred = nb.predict(X_val)"
      ],
      "execution_count": null,
      "outputs": []
    },
    {
      "cell_type": "code",
      "metadata": {
        "id": "GUtkLVY1ebLq",
        "colab_type": "code",
        "colab": {
          "base_uri": "https://localhost:8080/",
          "height": 88
        },
        "outputId": "7805371b-551d-4459-cd3f-a2d7d575c9a1"
      },
      "source": [
        "print(\"Training Accuracy:\", nb.score(X_train, y_train))\n",
        "print(\"Validation Set Accuracy:\", nb.score(X_val, y_val))      \n",
        "cross_val = cross_val_score(nb, x_scaler.transform(X), y, cv=5)       #Citation - scikit-learn.org sklearn API reference documentation\n",
        "print(\"Mean Cross-Validation Accuracy:\", np.mean(cross_val))          #Citation - scipy.org numpy documentation\n",
        "print(\"Standard deviation:\", np.std(cross_val))"
      ],
      "execution_count": null,
      "outputs": [
        {
          "output_type": "stream",
          "text": [
            "Training Accuracy: 0.98359375\n",
            "Validation Set Accuracy: 0.990625\n",
            "Mean Cross-Validation Accuracy: 0.9843750000000002\n",
            "Standard deviation: 0.005229125165837968\n"
          ],
          "name": "stdout"
        }
      ]
    },
    {
      "cell_type": "code",
      "metadata": {
        "id": "H0iagtl_bp_G",
        "colab_type": "code",
        "colab": {
          "base_uri": "https://localhost:8080/",
          "height": 295
        },
        "outputId": "8601fbdd-d58b-4048-90e8-cfc22e1cc006"
      },
      "source": [
        "#Confusion matrix for Validation Data\n",
        "conf_mat = confusion_matrix(y_val, y_pred)        #Citation - scikit-learn.org sklearn API reference documentation\n",
        "plot_conf(conf_mat)"
      ],
      "execution_count": null,
      "outputs": [
        {
          "output_type": "display_data",
          "data": {
            "image/png": "[encoded data removed]",
            "text/plain": [
              "<Figure size 432x288 with 2 Axes>"
            ]
          },
          "metadata": {
            "tags": [],
            "needs_background": "light"
          }
        }
      ]
    },
    {
      "cell_type": "code",
      "metadata": {
        "id": "gSd-XI8clwMR",
        "colab_type": "code",
        "colab": {
          "base_uri": "https://localhost:8080/",
          "height": 35
        },
        "outputId": "dfb6a5b9-8d8b-4603-e990-72fc2e7a8e67"
      },
      "source": [
        "#Random Classifier\n",
        "print(\"Accuracy of random classifier:\", accuracy_score(y_val, np.random.choice([1, 2, 3, 4], size=y_val.shape[0])))   #Citation - scikit-learn.org sklearn API reference documentation"
      ],
      "execution_count": null,
      "outputs": [
        {
          "output_type": "stream",
          "text": [
            "Accuracy of random classifier: 0.26875\n"
          ],
          "name": "stdout"
        }
      ]
    },
    {
      "cell_type": "code",
      "metadata": {
        "id": "m_vd0P17lyAQ",
        "colab_type": "code",
        "colab": {
          "base_uri": "https://localhost:8080/",
          "height": 35
        },
        "outputId": "0904af2f-c23b-4f4f-cdc0-76511c1374f9"
      },
      "source": [
        "#Logistic Regression classifier.\n",
        "c = [0.001,0.01, 0.1, 1, 10, 50, 100, 200]                       #Citation - scipy.org numpy documentation\n",
        "param_grid = {'C':c}\n",
        "\n",
        "grid_search = GridSearchCV(LogisticRegression(),param_grid,cv=5,n_jobs=-1)           #Citation - scikit-learn.org sklearn API reference documentation\n",
        "grid_result = grid_search.fit(X_train,y_train)\n",
        "\n",
        "print(\"The best parameter:\", grid_result.best_params_)\n",
        "\n",
        "lr = LogisticRegression(C = grid_result.best_params_['C'], penalty = 'l2',       \n",
        "                        solver='lbfgs',multi_class='multinomial')          #Citation - scikit-learn.org sklearn API reference documentation\n",
        "lr_fit = lr.fit(X_train,y_train)\n",
        "y_pred = lr.predict(X_val)"
      ],
      "execution_count": null,
      "outputs": [
        {
          "output_type": "stream",
          "text": [
            "The best parameter: {'C': 50}\n"
          ],
          "name": "stdout"
        }
      ]
    },
    {
      "cell_type": "code",
      "metadata": {
        "id": "UOwlxOfBew-W",
        "colab_type": "code",
        "colab": {
          "base_uri": "https://localhost:8080/",
          "height": 88
        },
        "outputId": "747bc4cd-c2e8-4688-d412-9c5b3724745d"
      },
      "source": [
        "print(\"Training Accuracy:\", lr.score(X_train, y_train))\n",
        "print(\"Validation Accuracy:\", lr.score(X_val, y_val))\n",
        "cross_val = cross_val_score(lr, x_scaler.transform(X), y, cv=5)                       #Citation - scikit-learn.org sklearn API reference documentation\n",
        "print(\"Mean Cross-Validation Accuracy:\", np.mean(cross_val))                         \n",
        "print(\"Standard deviation:\", np.std(cross_val))"
      ],
      "execution_count": null,
      "outputs": [
        {
          "output_type": "stream",
          "text": [
            "Training Accuracy: 0.984375\n",
            "Validation Accuracy: 0.990625\n",
            "Mean Cross-Validation Accuracy: 0.9806250000000001\n",
            "Standard deviation: 0.007756046028744283\n"
          ],
          "name": "stdout"
        }
      ]
    },
    {
      "cell_type": "code",
      "metadata": {
        "id": "WFvEbwBlcRiD",
        "colab_type": "code",
        "colab": {
          "base_uri": "https://localhost:8080/",
          "height": 295
        },
        "outputId": "967c53c2-bbe8-48c7-a155-5f597e6a1daa"
      },
      "source": [
        "#Confusion matrix for Validation Data\n",
        "conf_mat = confusion_matrix(y_val, y_pred)                      #Citation - scikit-learn.org sklearn API reference documentation\n",
        "plot_conf(conf_mat)"
      ],
      "execution_count": null,
      "outputs": [
        {
          "output_type": "display_data",
          "data": {
            "image/png": "[encoded data removed]",
            "text/plain": [
              "<Figure size 432x288 with 2 Axes>"
            ]
          },
          "metadata": {
            "tags": [],
            "needs_background": "light"
          }
        }
      ]
    },
    {
      "cell_type": "code",
      "metadata": {
        "id": "3e0-xnTUlzz9",
        "colab_type": "code",
        "colab": {
          "base_uri": "https://localhost:8080/",
          "height": 35
        },
        "outputId": "8b9d9858-cec9-4aa6-e1a1-00df7d50a843"
      },
      "source": [
        "#SVM classifier\n",
        "c = [0.01, 0.1, 1, 10, 50, 100, 200]\n",
        "gamma = [0.001, 0.01, 0.1, 1, 10]\n",
        "\n",
        "param_grid = {'C':c, 'gamma':gamma}\n",
        "\n",
        "grid_search = GridSearchCV(SVC(),param_grid,cv=5,n_jobs=-1)                                 #Citation - scikit-learn.org sklearn API reference documentation\n",
        "grid_result = grid_search.fit(X_train,y_train)\n",
        "\n",
        "print(\"The best parameters:\", grid_result.best_params_)\n",
        "\n",
        "svc = SVC(kernel = 'rbf', C = grid_result.best_params_['C'],                      #Citation - scikit-learn.org sklearn API reference documentation\n",
        "          gamma = grid_result.best_params_['gamma'], probability=True)  \n",
        "svc.fit(X_train,y_train)\n",
        "y_pred = svc.predict(X_val)"
      ],
      "execution_count": null,
      "outputs": [
        {
          "output_type": "stream",
          "text": [
            "The best parameters: {'C': 50, 'gamma': 0.1}\n"
          ],
          "name": "stdout"
        }
      ]
    },
    {
      "cell_type": "code",
      "metadata": {
        "id": "SHlbbY0Ze0pO",
        "colab_type": "code",
        "colab": {
          "base_uri": "https://localhost:8080/",
          "height": 88
        },
        "outputId": "ddd1da50-bb5c-4146-8b4c-6c0604f3ee31"
      },
      "source": [
        "print(\"Training Accuracy:\", svc.score(X_train, y_train))\n",
        "print(\"Validation Accuracy:\", svc.score(X_val, y_val))\n",
        "cross_val = cross_val_score(svc, x_scaler.transform(X), y, cv=5)\n",
        "print(\"Mean Cross-Validation Accuracy:\", np.mean(cross_val))\n",
        "print(\"Standard deviation:\", np.std(cross_val))"
      ],
      "execution_count": null,
      "outputs": [
        {
          "output_type": "stream",
          "text": [
            "Training Accuracy: 0.99453125\n",
            "Validation Accuracy: 0.975\n",
            "Mean Cross-Validation Accuracy: 0.9806250000000001\n",
            "Standard deviation: 0.0077560460287442665\n"
          ],
          "name": "stdout"
        }
      ]
    },
    {
      "cell_type": "code",
      "metadata": {
        "id": "ViGaonW6mTKn",
        "colab_type": "code",
        "colab": {
          "base_uri": "https://localhost:8080/",
          "height": 295
        },
        "outputId": "91ceab61-99ae-476a-9177-36a8279b7732"
      },
      "source": [
        "#Confusion matrix for Validation Data\n",
        "conf_mat = confusion_matrix(y_val, y_pred)                      #Citation - scikit-learn.org sklearn API reference documentation\n",
        "plot_conf(conf_mat)"
      ],
      "execution_count": null,
      "outputs": [
        {
          "output_type": "display_data",
          "data": {
            "image/png": "[encoded data removed]",
            "text/plain": [
              "<Figure size 432x288 with 2 Axes>"
            ]
          },
          "metadata": {
            "tags": [],
            "needs_background": "light"
          }
        }
      ]
    },
    {
      "cell_type": "code",
      "metadata": {
        "id": "F-aiwV-xl011",
        "colab_type": "code",
        "colab": {
          "base_uri": "https://localhost:8080/",
          "height": 35
        },
        "outputId": "8add3a43-7fcb-4c43-8e7b-f100789b8bd8"
      },
      "source": [
        "#XGB Classififer\n",
        "rates = [0.01,0.05,0.1,0.15,0.2]\n",
        "n = [10, 50, 100, 200]\n",
        "depth_values = range(1,20,1)\n",
        "\n",
        "param_grid  = {'learning_rate':rates,'n_estimators':n, 'max_depth':depth_values, 'random_state':[0]} \n",
        "\n",
        "grid_search = GridSearchCV(XGBClassifier(),param_grid,cv=5,n_jobs=-1)                             #Citation - scikit-learn.org sklearn API reference documentation\n",
        "grid_result = grid_search.fit(X_train,y_train)\n",
        "\n",
        "print(\"The best parameters:\",grid_result.best_params_)\n",
        "xgb = XGBClassifier(n_estimators=grid_result.best_params_['n_estimators'],                      #Citation - scikit-learn.org sklearn API reference documentation\n",
        "                                learning_rate = grid_result.best_params_['learning_rate'],\n",
        "                                max_depth = grid_result.best_params_['max_depth'],\n",
        "                                objective='multi:softmax', n_jobs = -1, random_state=0)\n",
        "\n",
        "xgb.fit(X_train,y_train)\n",
        "y_pred = xgb.predict(X_val)"
      ],
      "execution_count": null,
      "outputs": [
        {
          "output_type": "stream",
          "text": [
            "The best parameters: {'learning_rate': 0.2, 'max_depth': 1, 'n_estimators': 200, 'random_state': 0}\n"
          ],
          "name": "stdout"
        }
      ]
    },
    {
      "cell_type": "code",
      "metadata": {
        "id": "C9YM7tcue3aY",
        "colab_type": "code",
        "colab": {
          "base_uri": "https://localhost:8080/",
          "height": 88
        },
        "outputId": "6a2a3e68-f796-495f-e853-3a617055d76b"
      },
      "source": [
        "print(\"Training Accuracy:\", xgb.score(X_train, y_train))\n",
        "print(\"Validation Accuracy:\", xgb.score(X_val, y_val))\n",
        "cross_val = cross_val_score(xgb, x_scaler.transform(X), y, cv=5)\n",
        "print(\"Mean Cross-Validation Accuracy:\", np.mean(cross_val))\n",
        "print(\"Standard deviation:\", np.std(cross_val))"
      ],
      "execution_count": null,
      "outputs": [
        {
          "output_type": "stream",
          "text": [
            "Training Accuracy: 0.99609375\n",
            "Validation Accuracy: 0.990625\n",
            "Mean Cross-Validation Accuracy: 0.984375\n",
            "Standard deviation: 0.0034232659844072966\n"
          ],
          "name": "stdout"
        }
      ]
    },
    {
      "cell_type": "code",
      "metadata": {
        "id": "CQI4hhm2mUfI",
        "colab_type": "code",
        "colab": {
          "base_uri": "https://localhost:8080/",
          "height": 295
        },
        "outputId": "4f44b062-414b-488a-af50-f1c8319f4519"
      },
      "source": [
        "#Confusion matrix for Validation Data\n",
        "conf_mat = confusion_matrix(y_val, y_pred)                #Citation - scikit-learn.org sklearn API reference documentation\n",
        "plot_conf(conf_mat)"
      ],
      "execution_count": null,
      "outputs": [
        {
          "output_type": "display_data",
          "data": {
            "image/png": "[encoded data removed]",
            "text/plain": [
              "<Figure size 432x288 with 2 Axes>"
            ]
          },
          "metadata": {
            "tags": [],
            "needs_background": "light"
          }
        }
      ]
    },
    {
      "cell_type": "code",
      "metadata": {
        "id": "t5zMWoJal5eN",
        "colab_type": "code",
        "colab": {
          "base_uri": "https://localhost:8080/",
          "height": 35
        },
        "outputId": "163eaf26-3337-4692-c5b5-8a09f5f84071"
      },
      "source": [
        "#KNN Classifier\n",
        "k = list(range(1,11))\n",
        "weights = ['uniform','distance']\n",
        "\n",
        "param_grid = {'n_neighbors':k,'weights': weights}\n",
        "grid_search = GridSearchCV(KNeighborsClassifier(),param_grid,cv=5,n_jobs=-1)             #Citation - scikit-learn.org sklearn API reference documentation\n",
        "grid_result = grid_search.fit(X_train,y_train)\n",
        "\n",
        "print(\"The best parameters:\", grid_result.best_params_)\n",
        "\n",
        "knn = KNeighborsClassifier(n_neighbors = grid_result.best_params_['n_neighbors'],             #Citation - scikit-learn.org sklearn API reference documentation\n",
        "                           weights = grid_result.best_params_['weights'], n_jobs = -1)\n",
        "knn.fit(X_train,y_train)\n",
        "y_pred = knn.predict(X_val)"
      ],
      "execution_count": null,
      "outputs": [
        {
          "output_type": "stream",
          "text": [
            "The best parameters: {'n_neighbors': 4, 'weights': 'distance'}\n"
          ],
          "name": "stdout"
        }
      ]
    },
    {
      "cell_type": "code",
      "metadata": {
        "id": "YU5AHrHYfFKL",
        "colab_type": "code",
        "colab": {
          "base_uri": "https://localhost:8080/",
          "height": 88
        },
        "outputId": "ad9eb788-2d3f-4091-bc22-d5e86cb8bfca"
      },
      "source": [
        "print(\"Training Accuracy:\", knn.score(X_train, y_train))\n",
        "print(\"Validation Accuracy:\", knn.score(X_val, y_val))\n",
        "cross_val = cross_val_score(knn, x_scaler.transform(X), y, cv=5)\n",
        "print(\"Mean Cross-Validation Accuracy:\", np.mean(cross_val))\n",
        "print(\"Standard deviation:\", np.std(cross_val))"
      ],
      "execution_count": null,
      "outputs": [
        {
          "output_type": "stream",
          "text": [
            "Training Accuracy: 1.0\n",
            "Validation Accuracy: 0.9875\n",
            "Mean Cross-Validation Accuracy: 0.9868750000000001\n",
            "Standard deviation: 0.007500000000000003\n"
          ],
          "name": "stdout"
        }
      ]
    },
    {
      "cell_type": "code",
      "metadata": {
        "id": "NU5mXPtJmVdQ",
        "colab_type": "code",
        "colab": {
          "base_uri": "https://localhost:8080/",
          "height": 295
        },
        "outputId": "ffc63c12-19e4-4418-c599-f35701e196d0"
      },
      "source": [
        "#Confusion matrix for Validation Data\n",
        "conf_mat = confusion_matrix(y_val, y_pred)\n",
        "plot_conf(conf_mat)"
      ],
      "execution_count": null,
      "outputs": [
        {
          "output_type": "display_data",
          "data": {
            "image/png": "[encoded data removed]",
            "text/plain": [
              "<Figure size 432x288 with 2 Axes>"
            ]
          },
          "metadata": {
            "tags": [],
            "needs_background": "light"
          }
        }
      ]
    },
    {
      "cell_type": "code",
      "metadata": {
        "id": "8pVe8FsLmAXM",
        "colab_type": "code",
        "colab": {
          "base_uri": "https://localhost:8080/",
          "height": 35
        },
        "outputId": "237460e0-cb1a-4182-e941-ca7a25f2091d"
      },
      "source": [
        "#Random Forest Classifier\n",
        "max_depth = list(range(1,20,1))\n",
        "n = [10, 50, 100, 200]\n",
        "\n",
        "param_grid = {'max_depth':max_depth,'n_estimators':n,'random_state':[0]}          \n",
        "grid_search = GridSearchCV(RandomForestClassifier(),param_grid,cv=5,n_jobs=-1)                   #Citation - scikit-learn.org sklearn API reference documentation\n",
        "grid_result = grid_search.fit(X_train,y_train)\n",
        "\n",
        "print(\"The best parameters:\",grid_result.best_params_)\n",
        "\n",
        "rf = RandomForestClassifier(n_estimators = grid_result.best_params_['n_estimators'],      #Citation - scikit-learn.org sklearn API reference documentation\n",
        "                            max_depth = grid_result.best_params_['max_depth'],\n",
        "                            n_jobs = -1, random_state=0)\n",
        "rf.fit(X_train,y_train)\n",
        "y_pred = rf.predict(X_val)"
      ],
      "execution_count": null,
      "outputs": [
        {
          "output_type": "stream",
          "text": [
            "The best parameters: {'max_depth': 10, 'n_estimators': 50, 'random_state': 0}\n"
          ],
          "name": "stdout"
        }
      ]
    },
    {
      "cell_type": "code",
      "metadata": {
        "id": "Z_TVj--bfJUp",
        "colab_type": "code",
        "colab": {
          "base_uri": "https://localhost:8080/",
          "height": 88
        },
        "outputId": "82a193d6-9507-4f49-9990-006dd0c30f2e"
      },
      "source": [
        "print(\"Training Accuracy:\", rf.score(X_train, y_train))\n",
        "print(\"Validation Data Accuracy:\", rf.score(X_val, y_val))\n",
        "cross_val = cross_val_score(rf, x_scaler.transform(X), y, cv=5)\n",
        "print(\"Mean Cross-Validation Accuracy:\", np.mean(cross_val))\n",
        "print(\"Standard deviation:\", np.std(cross_val))"
      ],
      "execution_count": null,
      "outputs": [
        {
          "output_type": "stream",
          "text": [
            "Training Accuracy: 0.9984375\n",
            "Validation Data Accuracy: 0.990625\n",
            "Mean Cross-Validation Accuracy: 0.9825000000000002\n",
            "Standard deviation: 0.0050775240028974955\n"
          ],
          "name": "stdout"
        }
      ]
    },
    {
      "cell_type": "code",
      "metadata": {
        "id": "2PBnBnIUmWdn",
        "colab_type": "code",
        "colab": {
          "base_uri": "https://localhost:8080/",
          "height": 295
        },
        "outputId": "1259fccf-97f6-4238-90dc-5bd1a5cd82a6"
      },
      "source": [
        "#Confusion matrix for Validation Data\n",
        "conf_mat = confusion_matrix(y_val, y_pred)\n",
        "plot_conf(conf_mat)"
      ],
      "execution_count": null,
      "outputs": [
        {
          "output_type": "display_data",
          "data": {
            "image/png": "[encoded data removed]",
            "text/plain": [
              "<Figure size 432x288 with 2 Axes>"
            ]
          },
          "metadata": {
            "tags": [],
            "needs_background": "light"
          }
        }
      ]
    },
    {
      "cell_type": "code",
      "metadata": {
        "id": "1oRK_JroD6rw",
        "colab_type": "code",
        "colab": {
          "base_uri": "https://localhost:8080/",
          "height": 35
        },
        "outputId": "3c74720f-dea7-4865-af4b-530cd1591cfa"
      },
      "source": [
        "#MLP Classifier\n",
        "alpha = 10.0 ** -np.arange(1, 10)\n",
        "max_iter = [800,1000,1500]\n",
        "\n",
        "param_grid = {'alpha':alpha,'max_iter':max_iter,'random_state':[0]}          \n",
        "grid_search = GridSearchCV(MLPClassifier(),param_grid,cv=5)                   #Citation - scikit-learn.org sklearn API reference documentation\n",
        "grid_result = grid_search.fit(X_train,y_train)\n",
        "\n",
        "print(\"The best parameters:\",grid_result.best_params_)\n",
        "\n",
        "mlp = MLPClassifier(alpha = grid_result.best_params_['alpha'],                    #Citation - scikit-learn.org sklearn API reference documentation\n",
        "                    max_iter = grid_result.best_params_['max_iter'],random_state=0)\n",
        "mlp.fit(X_train,y_train)\n",
        "y_pred = mlp.predict(X_val)"
      ],
      "execution_count": null,
      "outputs": [
        {
          "output_type": "stream",
          "text": [
            "The best parameters: {'alpha': 0.01, 'max_iter': 800, 'random_state': 0}\n"
          ],
          "name": "stdout"
        }
      ]
    },
    {
      "cell_type": "code",
      "metadata": {
        "id": "vG5KbzhJSGNt",
        "colab_type": "code",
        "colab": {
          "base_uri": "https://localhost:8080/",
          "height": 88
        },
        "outputId": "990b4da5-cb9e-4f9d-e9df-2421e2f25a06"
      },
      "source": [
        "print(\"Training Accuracy:\", mlp.score(X_train, y_train))\n",
        "print(\"Validation Accuracy:\", mlp.score(X_val, y_val))\n",
        "cross_val = cross_val_score(mlp, x_scaler.transform(X), y, cv=5)\n",
        "print(\"Mean Cross-Validation Accuracy:\", np.mean(cross_val))\n",
        "print(\"Standard deviation:\", np.std(cross_val))"
      ],
      "execution_count": null,
      "outputs": [
        {
          "output_type": "stream",
          "text": [
            "Training Accuracy: 0.990625\n",
            "Validation Accuracy: 0.99375\n",
            "Mean Cross-Validation Accuracy: 0.984375\n",
            "Standard deviation: 0.006846531968814593\n"
          ],
          "name": "stdout"
        }
      ]
    },
    {
      "cell_type": "code",
      "metadata": {
        "id": "6_QVFU1RSPrw",
        "colab_type": "code",
        "colab": {
          "base_uri": "https://localhost:8080/",
          "height": 295
        },
        "outputId": "aa48cf53-5711-4087-90d7-f2d665dc56f1"
      },
      "source": [
        "#Confusion matrix for Validation Data\n",
        "conf_mat = confusion_matrix(y_val, y_pred)\n",
        "plot_conf(conf_mat)"
      ],
      "execution_count": null,
      "outputs": [
        {
          "output_type": "display_data",
          "data": {
            "image/png": "[encoded data removed]",
            "text/plain": [
              "<Figure size 432x288 with 2 Axes>"
            ]
          },
          "metadata": {
            "tags": [],
            "needs_background": "light"
          }
        }
      ]
    },
    {
      "cell_type": "code",
      "metadata": {
        "id": "2_g2dQnRKcb_",
        "colab_type": "code",
        "colab": {}
      },
      "source": [
        "#Read Test data\n",
        "df_test = pd.read_csv('D_Test1.csv')                 \n",
        "X_test = df_test.drop(columns = ['Location'])        \n",
        "y_test = df_test['Location']"
      ],
      "execution_count": null,
      "outputs": []
    },
    {
      "cell_type": "code",
      "metadata": {
        "id": "9x9Pmry1Pf7p",
        "colab_type": "code",
        "colab": {}
      },
      "source": [
        "X_test = x_scaler.transform(X_test)   "
      ],
      "execution_count": null,
      "outputs": []
    },
    {
      "cell_type": "code",
      "metadata": {
        "id": "u-8fz1YbgNPo",
        "colab_type": "code",
        "colab": {
          "base_uri": "https://localhost:8080/",
          "height": 35
        },
        "outputId": "439b1aca-9ecf-42da-90da-4b464333a907"
      },
      "source": [
        "print(\"Test Accuracy:\" , knn.score(X_test,y_test))"
      ],
      "execution_count": null,
      "outputs": [
        {
          "output_type": "stream",
          "text": [
            "Test Accuracy: 0.9825\n"
          ],
          "name": "stdout"
        }
      ]
    },
    {
      "cell_type": "code",
      "metadata": {
        "id": "-sVCRaaAgRnR",
        "colab_type": "code",
        "colab": {
          "base_uri": "https://localhost:8080/",
          "height": 295
        },
        "outputId": "a528a90f-1c11-47e9-a7f0-3208bc9486aa"
      },
      "source": [
        "#Confusion Matrix for Test Data\n",
        "y_pred = knn.predict(X_test)\n",
        "conf_test = confusion_matrix(y_test, y_pred)           #Citation - scikit-learn.org sklearn API reference documentation\n",
        "plot_conf(conf_test)"
      ],
      "execution_count": null,
      "outputs": [
        {
          "output_type": "display_data",
          "data": {
            "image/png": "[encoded data removed]",
            "text/plain": [
              "<Figure size 432x288 with 2 Axes>"
            ]
          },
          "metadata": {
            "tags": [],
            "needs_background": "light"
          }
        }
      ]
    }
  ]
}