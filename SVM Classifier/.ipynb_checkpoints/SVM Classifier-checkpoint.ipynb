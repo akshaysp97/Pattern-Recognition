{
 "cells": [
  {
   "cell_type": "code",
   "execution_count": 1,
   "metadata": {},
   "outputs": [],
   "source": [
    "import sklearn\n",
    "from sklearn.preprocessing import StandardScaler\n",
    "import csv\n",
    "import numpy as np\n",
    "import math\n",
    "import matplotlib.pyplot as plt\n",
    "import copy\n",
    "from sklearn.linear_model import LinearRegression\n",
    "from sklearn.multiclass import OneVsRestClassifier\n",
    "from sklearn.linear_model import Perceptron\n",
    "from sklearn.metrics import accuracy_score\n",
    "from sklearn.svm import SVC\n",
    "import matplotlib.pyplot as plt\n",
    "from scipy.spatial.distance import cdist\n",
    "\n",
    "def ld_csv_x(filename):\n",
    "    with open(filename, 'r') as file:\n",
    "        csv_readr = csv.reader(file)\n",
    "        thelist=[]\n",
    "        for row in csv_readr:\n",
    "            if len (row) !=0:\n",
    "                thelist = thelist + [row]\n",
    "\n",
    "    dataset = np.array(thelist).astype(\"float\")\n",
    "    return dataset\n",
    "\n",
    "def ld_csv_y(filename):\n",
    "    with open(filename, 'r') as file_label:\n",
    "        label_read = csv.reader(file_label)\n",
    "        label_list=[]\n",
    "        for row in label_read:\n",
    "            if len (row) !=0:\n",
    "                label_list = label_list + [row]\n",
    "\n",
    "    data_label = []\n",
    "\n",
    "    for row in label_list:\n",
    "        data_label.append(row[0])\n",
    "    data_label = np.array(data_label).astype(\"float\")\n",
    "    \n",
    "    return data_label"
   ]
  },
  {
   "cell_type": "code",
   "execution_count": 2,
   "metadata": {},
   "outputs": [],
   "source": [
    "def plotSVMBoundaries(training, label_train, classifier, support_vectors = []):\n",
    "\n",
    "    #Plot the decision boundaries and data points for minimum distance to\n",
    "    #class mean classifier\n",
    "    #\n",
    "    # training: traning data\n",
    "    # label_train: class lables correspond to training data\n",
    "    # classifier: sklearn classifier model, must have a predict() function\n",
    "    #\n",
    "    # Total number of classes\n",
    "    nclass =  max(np.unique(label_train))\n",
    "\n",
    "    # Set the feature range for ploting\n",
    "    max_x = np.ceil(max(training[:, 0])) + 0.01\n",
    "    min_x = np.floor(min(training[:, 0])) - 0.01\n",
    "    max_y = np.ceil(max(training[:, 1])) + 0.01\n",
    "    min_y = np.floor(min(training[:, 1])) - 0.01\n",
    "\n",
    "    xrange = (min_x, max_x)\n",
    "    yrange = (min_y, max_y)\n",
    "\n",
    "    # step size for how finely you want to visualize the decision boundary.\n",
    "    inc = 0.005\n",
    "\n",
    "    # generate grid coordinates. this will be the basis of the decision\n",
    "    # boundary visualization.\n",
    "    (x, y) = np.meshgrid(np.arange(xrange[0], xrange[1]+inc/100, inc), np.arange(yrange[0], yrange[1]+inc/100, inc))\n",
    "\n",
    "    # size of the (x, y) image, which will also be the size of the\n",
    "    # decision boundary image that is used as the plot background.\n",
    "    image_size = x.shape\n",
    "    xy = np.hstack( (x.reshape(x.shape[0]*x.shape[1], 1, order='F'), y.reshape(y.shape[0]*y.shape[1], 1, order='F')) ) # make (x,y) pairs as a bunch of row vectors.\n",
    "\n",
    "    # distance measure evaluations for each (x,y) pair.\n",
    "    pred_label = classifier.predict(xy)\n",
    "    \n",
    "    # reshape the idx (which contains the class label) into an image.\n",
    "    decisionmap = pred_label.reshape(image_size, order='F')\n",
    "\n",
    "    #turn on interactive mode\n",
    "    plt.figure()\n",
    "    #plt.ion()\n",
    "\n",
    "    #show the image, give each coordinate a color according to its class label\n",
    "    plt.imshow(decisionmap, extent=[xrange[0], xrange[1], yrange[0], yrange[1]], origin='lower')\n",
    "\n",
    "    unique_labels = np.unique(label_train)\n",
    "    # plot the class training data.\n",
    "    plt.plot(training[label_train == unique_labels[0], 0],training[label_train == unique_labels[0], 1], 'rx')\n",
    "    plt.plot(training[label_train == unique_labels[1], 0],training[label_train == unique_labels[1], 1], 'go')\n",
    "    if nclass == 3:\n",
    "        plt.plot(training[label_train == unique_labels[2], 0],training[label_train == unique_labels[2], 1], 'b*')\n",
    "\n",
    "    \n",
    "    # plot support vectors\n",
    "    if len(support_vectors)>0:\n",
    "        sv_x = support_vectors[:, 0]\n",
    "        sv_y = support_vectors[:, 1]\n",
    "        plt.scatter(sv_x, sv_y, s = 100, c = 'cyan')\n",
    "    \n",
    "    # include legend for training data\n",
    "    if nclass == 3:\n",
    "        l = plt.legend(('Class 1', 'Class 2', 'Class 3'), loc=2)\n",
    "    elif nclass == 2 and support_vectors == 0:\n",
    "        l = plt.legend(('Class 1', 'Class 2'), loc=2)\n",
    "    else: \n",
    "        l = plt.legend(('Class 1', 'Class 2', 'SV'), loc=2)\n",
    "    plt.gca().add_artist(l)\n",
    "    \n",
    "\n",
    "    plt.show()\n",
    "    "
   ]
  },
  {
   "cell_type": "code",
   "execution_count": 3,
   "metadata": {},
   "outputs": [],
   "source": [
    "def Linear_Kernel(C_value, x, y): \n",
    "    clf = SVC(C = C_value, kernel='linear', random_state = 0)\n",
    "    clf.fit(x, y)\n",
    "    label = clf.predict(x) \n",
    "    wt0 = clf.intercept_\n",
    "    wt12 = clf.coef_ \n",
    "    weights = [] \n",
    "    weights.append(wt0)\n",
    "    weights.append(wt12)\n",
    "    sv = clf.support_vectors_\n",
    "    return clf, sv, weights, label\n",
    "\n",
    "def RBF_Kernel(C_value, x, y): \n",
    "    clf = SVC(C = C_value, kernel='rbf', random_state = 0, gamma = 'auto') \n",
    "    clf.fit(x, y) \n",
    "    label = clf.predict(x) \n",
    "    sv = clf.support_vectors_ \n",
    "    return clf, sv, label"
   ]
  },
  {
   "cell_type": "code",
   "execution_count": 4,
   "metadata": {},
   "outputs": [
    {
     "name": "stdout",
     "output_type": "stream",
     "text": [
      "Accuracy when C = 1 is 90.0\n"
     ]
    },
    {
     "data": {
      "image/png": "[encoded data removed]",
      "text/plain": [
       "<Figure size 432x288 with 1 Axes>"
      ]
     },
     "metadata": {
      "needs_background": "light"
     },
     "output_type": "display_data"
    },
    {
     "name": "stdout",
     "output_type": "stream",
     "text": [
      "Accuracy when C = 100 is 100.0\n"
     ]
    },
    {
     "data": {
      "image/png": "[encoded data removed]",
      "text/plain": [
       "<Figure size 432x288 with 1 Axes>"
      ]
     },
     "metadata": {
      "needs_background": "light"
     },
     "output_type": "display_data"
    }
   ],
   "source": [
    "filename = 'train_x.csv'\n",
    "train_data = ld_csv_x(filename)\n",
    "filename1 = 'train_y.csv'\n",
    "label_data = ld_csv_y(filename1)\n",
    "\n",
    "clf1, sv1, weights1, labels1 = np.array(Linear_Kernel(1,train_data, label_data))\n",
    "acc1 = accuracy_score(labels1, label_data)\n",
    "clf100, sv100, weights100, labels100  = np.array(Linear_Kernel(100, train_data, label_data))\n",
    "acc100 = accuracy_score(labels100, label_data)\n",
    "\n",
    "print(\"Accuracy when C = 1 is\", acc1*100)\n",
    "plot1 = plotSVMBoundaries(train_data, label_data,clf1)\n",
    "print(\"Accuracy when C = 100 is\", acc100*100)\n",
    "plot100 = plotSVMBoundaries(train_data, label_data,clf100)"
   ]
  },
  {
   "cell_type": "code",
   "execution_count": 5,
   "metadata": {},
   "outputs": [
    {
     "data": {
      "image/png": "[encoded data removed]",
      "text/plain": [
       "<Figure size 432x288 with 1 Axes>"
      ]
     },
     "metadata": {
      "needs_background": "light"
     },
     "output_type": "display_data"
    },
    {
     "name": "stdout",
     "output_type": "stream",
     "text": [
      "The weights = \n",
      "  [array([-1.79836766]), array([[-7.11966384, 10.40264821]])]\n",
      "\n",
      " The support vectors  = \n",
      "  [[-0.023855   0.06042  ]\n",
      " [ 0.54579    0.45029  ]\n",
      " [ 0.0064864  0.23394  ]]\n"
     ]
    }
   ],
   "source": [
    "plot100 = plotSVMBoundaries(train_data, label_data,clf100,sv100) \n",
    "\n",
    "print(\"The weights = \\n \", weights100 ) \n",
    "print(\"\\n The support vectors  = \\n \", sv100)"
   ]
  },
  {
   "cell_type": "code",
   "execution_count": 6,
   "metadata": {},
   "outputs": [
    {
     "name": "stdout",
     "output_type": "stream",
     "text": [
      "Accuracy when C = 50 is 95.0\n"
     ]
    },
    {
     "data": {
      "image/png": "[encoded data removed]",
      "text/plain": [
       "<Figure size 432x288 with 1 Axes>"
      ]
     },
     "metadata": {
      "needs_background": "light"
     },
     "output_type": "display_data"
    },
    {
     "name": "stdout",
     "output_type": "stream",
     "text": [
      "Accuracy when C = 5000 is 100.0\n"
     ]
    },
    {
     "data": {
      "image/png": "[encoded data removed]",
      "text/plain": [
       "<Figure size 432x288 with 1 Axes>"
      ]
     },
     "metadata": {
      "needs_background": "light"
     },
     "output_type": "display_data"
    }
   ],
   "source": [
    "filename2 = 'train_x_2.csv'\n",
    "train_data_2 = ld_csv_x(filename2)\n",
    "filename3 = 'train_y_2.csv'\n",
    "label_data_2 = ld_csv_y(filename3)\n",
    "\n",
    "clf50, sv50, labels50 = np.array(RBF_Kernel(50, train_data_2, label_data_2))\n",
    "acc50 = accuracy_score(label_data_2, labels50)\n",
    "clf5000, sv5000, labels5000 = np.array(RBF_Kernel(5000, train_data_2, label_data_2))\n",
    "acc5000 = accuracy_score(label_data_2, labels5000)\n",
    "\n",
    "print(\"Accuracy when C = 50 is\", acc50*100)\n",
    "plot50 = plotSVMBoundaries (train_data_2, label_data_2,clf50)\n",
    "print(\"Accuracy when C = 5000 is\", acc5000*100)\n",
    "plot5000 = plotSVMBoundaries (train_data_2, label_data_2,clf5000) "
   ]
  },
  {
   "cell_type": "code",
   "execution_count": 7,
   "metadata": {},
   "outputs": [
    {
     "name": "stdout",
     "output_type": "stream",
     "text": [
      "Accuracy when gamma = 10 is 95.0\n"
     ]
    },
    {
     "data": {
      "image/png": "[encoded data removed]",
      "text/plain": [
       "<Figure size 432x288 with 1 Axes>"
      ]
     },
     "metadata": {
      "needs_background": "light"
     },
     "output_type": "display_data"
    },
    {
     "name": "stdout",
     "output_type": "stream",
     "text": [
      "Accuracy when gamma = 50 is 100.0\n"
     ]
    },
    {
     "data": {
      "image/png": "[encoded data removed]",
      "text/plain": [
       "<Figure size 432x288 with 1 Axes>"
      ]
     },
     "metadata": {
      "needs_background": "light"
     },
     "output_type": "display_data"
    },
    {
     "name": "stdout",
     "output_type": "stream",
     "text": [
      "Accuracy when gamma = 500 is 100.0\n"
     ]
    },
    {
     "data": {
      "image/png": "[encoded data removed]",
      "text/plain": [
       "<Figure size 432x288 with 1 Axes>"
      ]
     },
     "metadata": {
      "needs_background": "light"
     },
     "output_type": "display_data"
    }
   ],
   "source": [
    "def RBF_Krnl_1(gamma_value, x, y): \n",
    "    clf = SVC(C = 1.0,  kernel='rbf', gamma = gamma_value, random_state = 0)\n",
    "    clf.fit(x, y) \n",
    "    labels = clf.predict(x) \n",
    "    sv = clf.support_vectors_ \n",
    "    return clf, sv, labels \n",
    "\n",
    "clf10,sv10, labels10 = np.array(RBF_Krnl_1(10, train_data_2, label_data_2)) \n",
    "acc10 = accuracy_score(label_data_2,labels10)\n",
    "print(\"Accuracy when gamma = 10 is\", acc10*100)\n",
    "plot_10 = plotSVMBoundaries (train_data_2, label_data_2,clf10) \n",
    "\n",
    "clf50, sv50, labels50 = np.array(RBF_Krnl_1(50, train_data_2, label_data_2))\n",
    "acc50 = accuracy_score(label_data_2,labels50)\n",
    "print(\"Accuracy when gamma = 50 is\", acc50*100)\n",
    "plot_50 = plotSVMBoundaries (train_data_2, label_data_2,clf50)\n",
    "\n",
    "clf500, sv500, labels500 = np.array(RBF_Krnl_1(500, train_data_2, label_data_2))\n",
    "acc500 = accuracy_score(label_data_2,labels500)\n",
    "print(\"Accuracy when gamma = 500 is\", acc500*100)\n",
    "plot_500 = plotSVMBoundaries (train_data_2, label_data_2,clf500) "
   ]
  },
  {
   "cell_type": "code",
   "execution_count": 8,
   "metadata": {},
   "outputs": [
    {
     "name": "stdout",
     "output_type": "stream",
     "text": [
      "The average cross-validation accuracy = 81.96078431372548\n"
     ]
    },
    {
     "name": "stderr",
     "output_type": "stream",
     "text": [
      "C:\\Users\\aksha\\Anaconda3\\lib\\site-packages\\sklearn\\utils\\validation.py:760: DataConversionWarning: A column-vector y was passed when a 1d array was expected. Please change the shape of y to (n_samples, ), for example using ravel().\n",
      "  y = column_or_1d(y, warn=True)\n",
      "C:\\Users\\aksha\\Anaconda3\\lib\\site-packages\\sklearn\\utils\\validation.py:760: DataConversionWarning: A column-vector y was passed when a 1d array was expected. Please change the shape of y to (n_samples, ), for example using ravel().\n",
      "  y = column_or_1d(y, warn=True)\n",
      "C:\\Users\\aksha\\Anaconda3\\lib\\site-packages\\sklearn\\utils\\validation.py:760: DataConversionWarning: A column-vector y was passed when a 1d array was expected. Please change the shape of y to (n_samples, ), for example using ravel().\n",
      "  y = column_or_1d(y, warn=True)\n",
      "C:\\Users\\aksha\\Anaconda3\\lib\\site-packages\\sklearn\\utils\\validation.py:760: DataConversionWarning: A column-vector y was passed when a 1d array was expected. Please change the shape of y to (n_samples, ), for example using ravel().\n",
      "  y = column_or_1d(y, warn=True)\n",
      "C:\\Users\\aksha\\Anaconda3\\lib\\site-packages\\sklearn\\utils\\validation.py:760: DataConversionWarning: A column-vector y was passed when a 1d array was expected. Please change the shape of y to (n_samples, ), for example using ravel().\n",
      "  y = column_or_1d(y, warn=True)\n"
     ]
    }
   ],
   "source": [
    "import numpy as np \n",
    "import pandas as pd \n",
    "import matplotlib.pyplot as plt \n",
    "from sklearn.model_selection import StratifiedKFold \n",
    "from sklearn import svm\n",
    "from sklearn.svm import SVC\n",
    "from sklearn.metrics import accuracy_score\n",
    "from sklearn.utils import shuffle\n",
    "\n",
    "feature_tr = np.genfromtxt('feature_train.csv', delimiter=',') \n",
    "label_tr = np.genfromtxt('label_train.csv', delimiter=',')\n",
    "feature_te = np.genfromtxt('feature_test.csv',delimiter =',') \n",
    "label_te = np.genfromtxt('label_test.csv', delimiter=', ') \n",
    "label_tr = np.vstack(label_tr) \n",
    "label_te = np.vstack(label_te) \n",
    "train_data = feature_tr[:,0:2] \n",
    "test_data = feature_te[:,0:2]\n",
    "train_data_wlabels = np.column_stack((train_data, label_tr)) \n",
    "cv = StratifiedKFold(5) \n",
    "precomputed_folds = list(cv.split(train_data, label_tr)) \n",
    "\n",
    "accuracy = []\n",
    "for train_index, test_index in cv.split(train_data, label_tr): \n",
    "    count = 0\n",
    "    X_train, X_test = train_data[train_index], train_data[test_index]\n",
    "    clf = SVC(C = 1, kernel='rbf', gamma = 1)\n",
    "    clf.fit(X_train, train_data_wlabels[train_index, 2:3]) \n",
    "    labels = clf.predict(X_test) \n",
    "    sample = train_data_wlabels[test_index, 2:3] \n",
    "    for i in range(0, len(labels)): \n",
    "        if(labels[i] == sample[i]): \n",
    "            count = count+1\n",
    "    accuracy.append((count/len(labels))*100)\n",
    "average_acc = np.mean(accuracy); \n",
    "\n",
    "print(\"The average cross-validation accuracy =\", average_acc)"
   ]
  },
  {
   "cell_type": "markdown",
   "metadata": {},
   "source": [
    "# Part (b)"
   ]
  },
  {
   "cell_type": "code",
   "execution_count": 9,
   "metadata": {},
   "outputs": [
    {
     "name": "stdout",
     "output_type": "stream",
     "text": [
      "The best pair is C = 0.868511373751352 and gamma = 0.49417133613238334\n",
      "The mean Cross-Validation Accuracy for the best pair =  0.8660130718954248\n",
      "The Standard deviation for the best pair =  0.0433052778391567\n"
     ]
    },
    {
     "data": {
      "image/png": "[encoded data removed]",
      "text/plain": [
       "<Figure size 432x288 with 2 Axes>"
      ]
     },
     "metadata": {
      "needs_background": "light"
     },
     "output_type": "display_data"
    }
   ],
   "source": [
    "X_train = np.genfromtxt('feature_train.csv', delimiter=\",\")[:,0:2]\n",
    "y_train = np.genfromtxt('label_train.csv', delimiter=\",\")\n",
    "skf = StratifiedKFold(n_splits = 5, shuffle = True)\n",
    "Cs = np.logspace(-3, 3, 50)\n",
    "gammas = np.logspace(-3, 3, 50)\n",
    "ACC = np.zeros((50,50))\n",
    "DEV = np.zeros((50,50))\n",
    "\n",
    "for i, gamma in enumerate(gammas):\n",
    "    for j, C in enumerate(Cs):  \n",
    "        acc = []\n",
    "        for train_index, dev_index in skf.split(X_train, y_train):\n",
    "            X_cv_train, X_cv_dev = X_train[train_index], X_train[dev_index]\n",
    "            y_cv_train, y_cv_dev = y_train[train_index], y_train[dev_index]\n",
    "            clf = SVC(C = C, kernel = 'rbf', gamma = gamma )\n",
    "            clf.fit(X_cv_train, y_cv_train)\n",
    "            acc.append(accuracy_score(y_cv_dev, clf.predict(X_cv_dev)))\n",
    "        \n",
    "        ACC[i,j] = np.mean(acc)\n",
    "        DEV[i,j] = np.std(acc)\n",
    "        \n",
    "plt.imshow(ACC)\n",
    "plt.colorbar()\n",
    "\n",
    "i, j = np.argwhere(ACC == np.max(ACC))[0]\n",
    "print('The best pair is C = ' + str(Cs[j]) + ' and gamma = ' + str(gammas[i]))\n",
    "print('The mean Cross-Validation Accuracy for the best pair = ', ACC[i,j])\n",
    "print('The Standard deviation for the best pair = ', DEV[i,j])"
   ]
  },
  {
   "cell_type": "markdown",
   "metadata": {},
   "source": [
    "# Part (c)"
   ]
  },
  {
   "cell_type": "code",
   "execution_count": 10,
   "metadata": {},
   "outputs": [
    {
     "name": "stdout",
     "output_type": "stream",
     "text": [
      "The 20 chosen pairs = \n",
      " [[6.55128557e-01 1.52641797e+00]\n",
      " [3.72759372e-01 4.71486636e+00]\n",
      " [2.12095089e-01 4.49843267e+01]\n",
      " [6.55128557e-01 1.09854114e+01]\n",
      " [1.59985872e-01 3.23745754e+02]\n",
      " [4.94171336e-01 1.52641797e+00]\n",
      " [2.12095089e-01 1.09854114e+01]\n",
      " [2.81176870e-01 1.45634848e+01]\n",
      " [3.72759372e-01 2.02358965e+00]\n",
      " [2.12095089e-01 3.39322177e+01]\n",
      " [2.94705170e-02 2.44205309e+02]\n",
      " [3.72759372e-01 3.55648031e+00]\n",
      " [1.59985872e-01 1.04811313e+02]\n",
      " [2.12095089e-01 1.93069773e+01]\n",
      " [2.12095089e-01 1.52641797e+00]\n",
      " [6.55128557e-01 1.09854114e+01]\n",
      " [1.59985872e-01 2.55954792e+01]\n",
      " [2.12095089e-01 1.38949549e+02]\n",
      " [4.09491506e-03 1.84206997e+02]\n",
      " [1.20679264e-01 1.04811313e+02]]\n",
      "The best pair is gamma = 0.49417133613238334 and C = 1.5264179671752334\n",
      "The mean Cross-Validation Accuracy for the best pair =  0.877124183006536\n",
      "The Standard deviation for the best pair =  0.04053341629729058\n"
     ]
    }
   ],
   "source": [
    "X_train = np.genfromtxt('feature_train.csv', delimiter=\",\")[:,0:2]\n",
    "X_test = np.genfromtxt('feature_test.csv', delimiter=\",\")[:,0:2]\n",
    "y_train = np.genfromtxt('label_train.csv', delimiter=\",\")\n",
    "y_test = np.genfromtxt('label_test.csv', delimiter=\",\")\n",
    "\n",
    "skf = StratifiedKFold(n_splits = 5, shuffle = True)\n",
    "Cs = np.logspace(-3, 3, 50)\n",
    "gammas = np.logspace(-3, 3, 50)\n",
    "\n",
    "accuracy = np.zeros((50,50))\n",
    "dev = np.zeros((50,50))\n",
    "\n",
    "pair_history = [0, 0]\n",
    "ACC = []\n",
    "DEV = []\n",
    "\n",
    "for t in range(0, 20):\n",
    "    for i, gamma in enumerate(gammas):\n",
    "        for j, C in enumerate(Cs):\n",
    "            acc = []\n",
    "            for train_index, dev_index in skf.split(X_train, y_train):\n",
    "                X_cv_train, X_cv_dev = X_train[train_index], X_train[dev_index]\n",
    "                y_cv_train, y_cv_dev = y_train[train_index], y_train[dev_index]\n",
    "                clf = SVC(C = C, kernel = 'rbf', gamma = gamma, decision_function_shape = 'ovr')\n",
    "                clf.fit(X_cv_train, y_cv_train)\n",
    "                acc.append(accuracy_score(y_cv_dev, clf.predict(X_cv_dev)))\n",
    "            \n",
    "            accuracy[i,j] = np.mean(acc)\n",
    "            dev[i,j] = np.std(acc)   \n",
    "    i, j = np.argwhere(accuracy == np.max(accuracy))[0]\n",
    "    pair_history = np.vstack([pair_history, [gammas[i], Cs[j]]])\n",
    "    ACC.append(accuracy[i,j])\n",
    "    DEV.append(dev[i,j])\n",
    "\n",
    "pair_history = pair_history[1:]\n",
    "print('The 20 chosen pairs = \\n', pair_history)\n",
    "i = np.argwhere(ACC == np.max(ACC))[0]\n",
    "print('The best pair is gamma = ' + str(pair_history[int(i),0]) + ' and C = ' + str(pair_history[int(i),1]))\n",
    "print('The mean Cross-Validation Accuracy for the best pair = ', ACC[int(i)])\n",
    "print('The Standard deviation for the best pair = ', DEV[int(i)])"
   ]
  },
  {
   "cell_type": "markdown",
   "metadata": {},
   "source": [
    "# Part (d)"
   ]
  },
  {
   "cell_type": "code",
   "execution_count": 11,
   "metadata": {},
   "outputs": [
    {
     "name": "stdout",
     "output_type": "stream",
     "text": [
      "Test accuracy  =  0.797752808988764\n"
     ]
    },
    {
     "data": {
      "image/png": "[encoded data removed]",
      "text/plain": [
       "<Figure size 432x288 with 1 Axes>"
      ]
     },
     "metadata": {
      "needs_background": "light"
     },
     "output_type": "display_data"
    }
   ],
   "source": [
    "clf1 = SVC(C = pair_history[int(i),0], kernel = 'rbf', gamma = pair_history[int(i),1], decision_function_shape = 'ovr')\n",
    "clf1.fit(X_train, y_train)\n",
    "y_pred = clf1.predict(X_test)\n",
    "acc = accuracy_score(y_test, y_pred)\n",
    "print('Test accuracy  = ', acc)\n",
    "plotSVMBoundaries(X_train, y_train, clf1)\n"
   ]
  }
 ],
 "metadata": {
  "kernelspec": {
   "display_name": "Python 3",
   "language": "python",
   "name": "python3"
  },
  "language_info": {
   "codemirror_mode": {
    "name": "ipython",
    "version": 3
   },
   "file_extension": ".py",
   "mimetype": "text/x-python",
   "name": "python",
   "nbconvert_exporter": "python",
   "pygments_lexer": "ipython3",
   "version": "3.7.7"
  }
 },
 "nbformat": 4,
 "nbformat_minor": 4
}
