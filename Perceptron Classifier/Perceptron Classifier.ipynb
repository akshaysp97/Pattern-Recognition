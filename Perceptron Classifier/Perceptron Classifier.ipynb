{
 "cells": [
  {
   "cell_type": "code",
   "execution_count": 13,
   "metadata": {},
   "outputs": [],
   "source": [
    "#Plotting functions\n",
    "\n",
    "def plotDecBoundaries(training, label_train,weight):\n",
    "\n",
    "    #Plot the decision boundaries and data points for minimum distance to\n",
    "    #class mean classifier\n",
    "    #\n",
    "    # training: traning data\n",
    "    # label_train: class lables correspond to training data\n",
    "    # sample_mean: mean vector for each class\n",
    "    #\n",
    "    # Total number of classes\n",
    "    nclass =  max(np.unique(label_train))\n",
    "\n",
    "    # Set the feature range for ploting\n",
    "    max_x = np.ceil(max(training[:, 0])) + 1\n",
    "    min_x = np.floor(min(training[:, 0])) - 1\n",
    "    max_y = np.ceil(max(training[:, 1])) + 1\n",
    "    min_y = np.floor(min(training[:, 1])) - 1\n",
    "\n",
    "    xrange = (min_x, max_x)\n",
    "    yrange = (min_y, max_y)\n",
    "\n",
    "    # step size for how finely you want to visualize the decision boundary.\n",
    "    inc = 0.005\n",
    "\n",
    "    # generate grid coordinates. this will be the basis of the decision\n",
    "    # boundary visualization.\n",
    "    (x, y) = np.meshgrid(np.arange(xrange[0], xrange[1]+inc/100, inc), np.arange(yrange[0], yrange[1]+inc/100, inc))\n",
    "\n",
    "    # size of the (x, y) image, which will also be the size of the\n",
    "    # decision boundary image that is used as the plot background.\n",
    "    image_size = x.shape\n",
    "    xy = np.hstack( (x.reshape(x.shape[0]*x.shape[1], 1, order='F'), \n",
    "                     y.reshape(y.shape[0]*y.shape[1], 1, order='F')) ) \n",
    "    \n",
    "    N=len(xy)              \n",
    "    D=len(xy[0])          \n",
    "    xydata = np.ones((N,D+1))\n",
    "    xydata[:,1]=xy[:,0]\n",
    "    xydata[:,2]=xy[:,1]\n",
    "    \n",
    "    g = np.zeros((N,1))\n",
    "    pred_label = np.zeros((N,1))\n",
    "    for i in range (0,N):\n",
    "        g[i,:] = np.dot(weight,xydata[i,:])\n",
    "        if (g[i,:]>0):\n",
    "            pred_label[i,:] = 1\n",
    "        elif (g[i,:]<0):\n",
    "            pred_label[i,:] = 2\n",
    "\n",
    "\n",
    "    # reshape the idx (which contains the class label) into an image.\n",
    "    decisionmap = pred_label.reshape(image_size, order='F')\n",
    "\n",
    "    #show the image, give each coordinate a color according to its class label\n",
    "    plt.imshow(decisionmap, extent=[xrange[0], xrange[1], \n",
    "                                    yrange[0], yrange[1]], origin='lower')\n",
    "    \n",
    "    # plot the class training data.\n",
    "    plt.plot(training[label_train == 1, 0],training[label_train == 1, 1], 'rx')\n",
    "    plt.plot(training[label_train == 2, 0],training[label_train == 2, 1], 'go')\n",
    "    if nclass == 3:\n",
    "        plt.plot(training[label_train == 3, 0],\n",
    "                 training[label_train == 3, 1], 'b*')\n",
    "\n",
    "    # include legend for training data\n",
    "    if nclass == 3:\n",
    "        l = plt.legend(('Class 1', 'Class 2', 'Class 3'), loc=2)\n",
    "    else:\n",
    "        l = plt.legend(('Class 1', 'Class 2'), loc=2)\n",
    "\n",
    "    plt.show()\n",
    "\n",
    "def plotting(dataset,w):  \n",
    "    data_lst=[]\n",
    "    label_lst=[]\n",
    "    for i in dataset:\n",
    "        data_lst.append(i[0])\n",
    "        data_lst.append(i[1])\n",
    "        label_lst.append(i[2])\n",
    "    label_arr = np.asarray(label_lst)\n",
    "    data_arr = np.asarray(data_lst)\n",
    "    data_len=int(len(data_arr)/2)\n",
    "    train_pts = data_arr.reshape(data_len,2)   \n",
    "    plotDecBoundaries(train_pts, label_arr, w)"
   ]
  },
  {
   "cell_type": "markdown",
   "metadata": {},
   "source": [
    "# Synthetic 1 "
   ]
  },
  {
   "cell_type": "code",
   "execution_count": 14,
   "metadata": {},
   "outputs": [
    {
     "name": "stdout",
     "output_type": "stream",
     "text": [
      "The final weight vector is  [-59.31056  62.21105  35.1    ]\n",
      "The number of misclassified data points are  2\n",
      "The error rate is 2.0 %\n"
     ]
    },
    {
     "data": {
      "image/png": "[encoded data removed]",
      "text/plain": [
       "<Figure size 432x288 with 1 Axes>"
      ]
     },
     "metadata": {
      "needs_background": "light"
     },
     "output_type": "display_data"
    }
   ],
   "source": [
    "#synthetic1 training dataset\n",
    "\n",
    "from csv import reader\n",
    "import math\n",
    "import matplotlib.pyplot as plt\n",
    "from scipy.spatial.distance import cdist\n",
    "import numpy as np\n",
    "        \n",
    "# Load a CSV file\n",
    "def ld_csv(filename):\n",
    "    with open(filename, 'r') as file:\n",
    "        csv_readr = reader(file)\n",
    "        thelist = list(csv_readr)\n",
    "    return thelist\n",
    "\n",
    "# Convert string column to float\n",
    "def str_to_float(dataset, column):\n",
    "    for row in dataset:\n",
    "        row[column] = float(row[column])\n",
    "        \n",
    "# Convert string column to integer\n",
    "def str_to_int(dataset, column):\n",
    "    for row in dataset:\n",
    "        row[column] = int(row[column])\n",
    "\n",
    "#Synthetic1 training dataset   \n",
    "filename = 'synthetic1_train.csv'\n",
    "dataset = ld_csv(filename)\n",
    "for i in range(2):\n",
    "    str_to_float(dataset, i)\n",
    "str_to_int(dataset, 2)\n",
    "#print(dataset)\n",
    "\n",
    "#Classify data points using training dataset\n",
    "def perceptron(filename):\n",
    "    train_data = np.genfromtxt(filename, delimiter=',')\n",
    "    col1 = train_data[:,0]\n",
    "    col2 = train_data[:,1]\n",
    "    class_labels = train_data[:,2]\n",
    "    index1 = np.where(class_labels == 1)\n",
    "    index2 = np.where(class_labels == 2)\n",
    "    x1_1 = col1[index1]\n",
    "    x2_1 = col2[index1]\n",
    "    x1_2 = col1[index2]\n",
    "    x2_2 = col2[index2]\n",
    "\n",
    "    col3 = np.full((len(col1)),1)\n",
    "    col1.flat[index2] = -col1[index2]\n",
    "    col2.flat[index2] = -col2[index2]\n",
    "    col3.flat[index2] = -col3[index2]\n",
    "    lst = np.array([col1, col2, col3]).T\n",
    "\n",
    "    rate = 1\n",
    "    w = np.array([0.1, 0.1, 0.1])\n",
    "    epoch = 1000\n",
    "    shuffle = np.random.permutation(len(col1))\n",
    "    for i in range(1, epoch):\n",
    "        for j in range(1,len(col1)):\n",
    "            k = (i-1)*len(col1) + j-1\n",
    "            ind = shuffle[k%len(col1)]\n",
    "            rslt= np.array([col1[ind], col2[ind], col3[ind]])\n",
    "            if(w @ rslt <=0):\n",
    "                w += rate*[col1[ind], col2[ind], col3[ind]]\n",
    "            else:\n",
    "                continue\n",
    "    nw = (w)/(np.linalg.norm(w))   \n",
    "    print(\"The final weight vector is \", w)\n",
    "    Errorfucnt(lst, w, class_labels,len(train_data[:,0]))\n",
    "    return w\n",
    "\n",
    "def Errorfucnt(train, weight, label, num_data):\n",
    "    count = 0\n",
    "    error = 0\n",
    "    n = len(label)\n",
    "    for i in range(0, n):\n",
    "        dec = np.dot(train[i], weight)\n",
    "        if (dec <= 0):\n",
    "            error+=1\n",
    "    \n",
    "    error_rate = error/num_data * 100\n",
    "    print(\"The number of misclassified data points are \", error)\n",
    "    print(\"The error rate is\", error_rate, \"%\")\n",
    "    \n",
    "w = perceptron(filename)\n",
    "weight_vec = np.array([w[1],w[0],w[2]])\n",
    "plotting(dataset,weight_vec)"
   ]
  },
  {
   "cell_type": "code",
   "execution_count": 15,
   "metadata": {},
   "outputs": [
    {
     "name": "stdout",
     "output_type": "stream",
     "text": [
      "The number of misclassified data points are  3\n",
      "The error rate is 3.0 %\n"
     ]
    }
   ],
   "source": [
    "#synthetic1 test dataset\n",
    "\n",
    "filename_1 = 'synthetic1_test.csv'\n",
    "def test(filename,w):\n",
    "    test_data = np.genfromtxt(filename, delimiter=',')\n",
    "    col1 = test_data[:,0]\n",
    "    col2 = test_data[:,1]\n",
    "    class_labels = test_data[:,2]\n",
    "    index = np.where(class_labels==2)\n",
    "    col3 = np.ones(len(col1))\n",
    "    col1.flat[index] = -col1[index]\n",
    "    col2.flat[index] = -col2[index]\n",
    "    col3.flat[index] = -col3[index]\n",
    "    lst_1 = np.array([col1, col2, col3]).T\n",
    "    Errorfucnt(lst_1, w , class_labels, len(test_data[:,0]))\n",
    "    \n",
    "test(filename_1,w)"
   ]
  },
  {
   "cell_type": "markdown",
   "metadata": {},
   "source": [
    "# Synthetic 2"
   ]
  },
  {
   "cell_type": "code",
   "execution_count": 16,
   "metadata": {},
   "outputs": [
    {
     "name": "stdout",
     "output_type": "stream",
     "text": [
      "The final weight vector is  [-0.964695 20.82736   7.1     ]\n",
      "The number of misclassified data points are  1\n",
      "The error rate is 1.0 %\n"
     ]
    },
    {
     "data": {
      "image/png": "[encoded data removed]",
      "text/plain": [
       "<Figure size 432x288 with 1 Axes>"
      ]
     },
     "metadata": {
      "needs_background": "light"
     },
     "output_type": "display_data"
    }
   ],
   "source": [
    "#Synthetic2 training dataset  \n",
    "\n",
    "filename_2 = 'synthetic2_train.csv'\n",
    "dataset_1 = ld_csv(filename_2)\n",
    "for i in range(2):\n",
    "    str_to_float(dataset_1, i)\n",
    "str_to_int(dataset_1, 2)\n",
    "\n",
    "w_1 = perceptron(filename_2)\n",
    "weight_vec = np.array([w_1[1],w_1[0],w_1[2]])\n",
    "plotting(dataset_1,weight_vec)"
   ]
  },
  {
   "cell_type": "code",
   "execution_count": 17,
   "metadata": {},
   "outputs": [
    {
     "name": "stdout",
     "output_type": "stream",
     "text": [
      "The number of misclassified data points are  5\n",
      "The error rate is 5.0 %\n"
     ]
    }
   ],
   "source": [
    "#Synthetic2 test dataset \n",
    "\n",
    "filename_3 = 'synthetic2_test.csv'\n",
    "test(filename_3,w_1)"
   ]
  },
  {
   "cell_type": "markdown",
   "metadata": {},
   "source": [
    "# Synthetic 3"
   ]
  },
  {
   "cell_type": "code",
   "execution_count": 6,
   "metadata": {},
   "outputs": [
    {
     "name": "stdout",
     "output_type": "stream",
     "text": [
      "The final weight vector is  [-18.4936  16.9812   1.1   ]\n",
      "The number of misclassified data points are  0\n",
      "The error rate is 0.0 %\n"
     ]
    },
    {
     "data": {
      "image/png": "[encoded data removed]",
      "text/plain": [
       "<Figure size 432x288 with 1 Axes>"
      ]
     },
     "metadata": {
      "needs_background": "light"
     },
     "output_type": "display_data"
    }
   ],
   "source": [
    "#Synthetic3 training dataset  \n",
    "\n",
    "filename_4 = 'synthetic3_train.csv'\n",
    "dataset_2 = ld_csv(filename_4)\n",
    "for i in range(2):\n",
    "    str_to_float(dataset_2, i)\n",
    "str_to_int(dataset_2, 2)\n",
    "\n",
    "w_2 = perceptron(filename_4)\n",
    "weight_vec = np.array([w_2[1],w_2[0],w_2[2]])\n",
    "plotting(dataset_2,weight_vec)"
   ]
  },
  {
   "cell_type": "code",
   "execution_count": 7,
   "metadata": {},
   "outputs": [
    {
     "name": "stdout",
     "output_type": "stream",
     "text": [
      "The number of misclassified data points are  2\n",
      "The error rate is 2.0 %\n"
     ]
    }
   ],
   "source": [
    "#Synthetic3 test dataset \n",
    "\n",
    "filename_3 = 'synthetic3_test.csv'\n",
    "test(filename_3,w_2)"
   ]
  }
 ],
 "metadata": {
  "kernelspec": {
   "display_name": "Python 3",
   "language": "python",
   "name": "python3"
  },
  "language_info": {
   "codemirror_mode": {
    "name": "ipython",
    "version": 3
   },
   "file_extension": ".py",
   "mimetype": "text/x-python",
   "name": "python",
   "nbconvert_exporter": "python",
   "pygments_lexer": "ipython3",
   "version": "3.7.7"
  }
 },
 "nbformat": 4,
 "nbformat_minor": 4
}
