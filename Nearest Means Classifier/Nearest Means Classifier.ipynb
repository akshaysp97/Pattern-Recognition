{
 "cells": [
  {
   "cell_type": "code",
   "execution_count": 1,
   "metadata": {},
   "outputs": [
    {
     "name": "stdout",
     "output_type": "stream",
     "text": [
      "The class means are as follows:\n",
      " [[-1.8731152  -0.1166418 ]\n",
      " [ 2.98095798  0.03548129]]\n"
     ]
    }
   ],
   "source": [
    "#To implement nearest-means classifier and compute error rate\n",
    "\n",
    "import numpy as np\n",
    "from csv import reader\n",
    "from math import sqrt\n",
    "import matplotlib.pyplot as plt\n",
    "from scipy.spatial.distance import cdist\n",
    "\n",
    "# Load a CSV file\n",
    "def ld_csv(filename):\n",
    "    with open(filename, 'r') as file:\n",
    "        csv_readr = reader(file)\n",
    "        thelist = list(csv_readr)\n",
    "    return thelist\n",
    "\n",
    "# Convert string column to float\n",
    "def str_to_float(dataset, column):\n",
    "    for row in dataset:\n",
    "        row[column] = float(row[column])\n",
    "        \n",
    "# Convert string column to integer\n",
    "def str_to_int(dataset, column):\n",
    "    for row in dataset:\n",
    "        row[column] = int(row[column])\n",
    "\n",
    "#Synthetic1 training dataset   \n",
    "filename = 'synthetic1_train.csv'\n",
    "dataset = ld_csv(filename)\n",
    "for i in range(2):\n",
    "    str_to_float(dataset, i)\n",
    "str_to_int(dataset, 2)\n",
    "#print(dataset)\n",
    "\n",
    "#Compute the class means and classify data points using training dataset\n",
    "train_data = np.genfromtxt(filename, delimiter=',')\n",
    "col1 = train_data[:,0]\n",
    "col2 = train_data[:,1]\n",
    "class_labels = train_data[:,2]\n",
    "index1 = np.where(class_labels == 1)\n",
    "index2 = np.where(class_labels == 2)\n",
    "\n",
    "x1_1 = col1[index1]\n",
    "x2_1 = col2[index1]\n",
    "x1_2 = col1[index2]\n",
    "x2_2 = col2[index2]\n",
    "\n",
    "mean = [[np.mean(x1_1), np.mean(x2_1)], [np.mean(x1_2),np.mean(x2_2)]]     \n",
    "mean_arr = np.array(mean)\n",
    "print(\"The class means are as follows:\\n\", mean_arr)"
   ]
  },
  {
   "cell_type": "code",
   "execution_count": 2,
   "metadata": {},
   "outputs": [],
   "source": [
    "def plotDecBoundaries(training, label_train, sample_mean):\n",
    "\n",
    "    #Plot the decision boundaries and data points for minimum distance to\n",
    "    #class mean classifier\n",
    "    #\n",
    "    # training: traning data\n",
    "    # label_train: class lables correspond to training data\n",
    "    # sample_mean: mean vector for each class\n",
    "    #\n",
    "    # Total number of classes\n",
    "    nclass =  max(np.unique(label_train))\n",
    "\n",
    "    # Set the feature range for ploting\n",
    "    max_x = np.ceil(max(training[:, 0])) + 1\n",
    "    min_x = np.floor(min(training[:, 0])) - 1\n",
    "    max_y = np.ceil(max(training[:, 1])) + 1\n",
    "    min_y = np.floor(min(training[:, 1])) - 1\n",
    "\n",
    "    xrange = (min_x, max_x)\n",
    "    yrange = (min_y, max_y)\n",
    "\n",
    "    # step size for how finely you want to visualize the decision boundary.\n",
    "    inc = 0.005\n",
    "\n",
    "    # generate grid coordinates. this will be the basis of the decision\n",
    "    # boundary visualization.\n",
    "    (x, y) = np.meshgrid(np.arange(xrange[0], xrange[1]+inc/100, inc), np.arange(yrange[0], yrange[1]+inc/100, inc))\n",
    "\n",
    "    # size of the (x, y) image, which will also be the size of the\n",
    "    # decision boundary image that is used as the plot background.\n",
    "    image_size = x.shape\n",
    "    xy = np.hstack( (x.reshape(x.shape[0]*x.shape[1], 1, order='F'), \n",
    "                     y.reshape(y.shape[0]*y.shape[1], 1, order='F')) ) \n",
    "    # make (x,y) pairs as a bunch of row vectors.\n",
    "\n",
    "    # distance measure evaluations for each (x,y) pair.\n",
    "    dist_mat = cdist(xy, sample_mean)\n",
    "    pred_label = np.argmin(dist_mat, axis=1)\n",
    "\n",
    "    # reshape the idx (which contains the class label) into an image.\n",
    "    decisionmap = pred_label.reshape(image_size, order='F')\n",
    "\n",
    "    #show the image, give each coordinate a color according to its class label\n",
    "    plt.imshow(decisionmap, extent=[xrange[0], xrange[1], \n",
    "                                    yrange[0], yrange[1]], origin='lower')\n",
    "\n",
    "    # plot the class training data.\n",
    "    plt.plot(training[label_train == 1, 0],training[label_train == 1, 1], 'rx')\n",
    "    plt.plot(training[label_train == 2, 0],training[label_train == 2, 1], 'go')\n",
    "    if nclass == 3:\n",
    "        plt.plot(training[label_train == 3, 0],\n",
    "                 training[label_train == 3, 1], 'b*')\n",
    "\n",
    "    # include legend for training data\n",
    "    if nclass == 3:\n",
    "        l = plt.legend(('Class 1', 'Class 2', 'Class 3'), loc=2)\n",
    "    else:\n",
    "        l = plt.legend(('Class 1', 'Class 2'), loc=2)\n",
    "    plt.gca().add_artist(l)\n",
    "\n",
    "    # plot the class mean vector.\n",
    "    m1, = plt.plot(sample_mean[0,0], sample_mean[0,1], 'rd', \n",
    "                   markersize=12, markerfacecolor='r', markeredgecolor='w')\n",
    "    m2, = plt.plot(sample_mean[1,0], sample_mean[1,1], 'gd', \n",
    "                   markersize=12, markerfacecolor='g', markeredgecolor='w')\n",
    "    if nclass == 3:\n",
    "        m3, = plt.plot(sample_mean[2,0], sample_mean[2,1], 'bd', \n",
    "                       markersize=12, markerfacecolor='b', markeredgecolor='w')\n",
    "\n",
    "    # include legend for class mean vector\n",
    "    if nclass == 3:\n",
    "        l1 = plt.legend([m1,m2,m3],['Class 1 Mean', 'Class 2 Mean',\n",
    "                                    'Class 3 Mean'], loc=4)\n",
    "    else:\n",
    "        l1 = plt.legend([m1,m2], ['Class 1 Mean', 'Class 2 Mean'], loc=4)\n",
    "\n",
    "    plt.gca().add_artist(l1)\n",
    "\n",
    "    plt.show()\n"
   ]
  },
  {
   "cell_type": "code",
   "execution_count": 3,
   "metadata": {},
   "outputs": [
    {
     "data": {
      "image/png": "[encoded data removed]",
      "text/plain": [
       "<Figure size 432x288 with 1 Axes>"
      ]
     },
     "metadata": {
      "needs_background": "light"
     },
     "output_type": "display_data"
    }
   ],
   "source": [
    "#plot shwoing classification of synthetic1 training dataset\n",
    "data_lst=[]\n",
    "label_lst=[]\n",
    "for i in dataset:\n",
    "    data_lst.append(i[0])\n",
    "    data_lst.append(i[1])\n",
    "    label_lst.append(i[2])\n",
    "label_arr = np.asarray(label_lst)\n",
    "data_arr = np.asarray(data_lst)\n",
    "data_len=int(len(data_arr)/2)\n",
    "train_pts = data_arr.reshape(data_len,2)\n",
    "\n",
    "plotDecBoundaries(train_pts, label_arr, mean_arr)"
   ]
  },
  {
   "cell_type": "code",
   "execution_count": 4,
   "metadata": {},
   "outputs": [
    {
     "name": "stdout",
     "output_type": "stream",
     "text": [
      "The number of misclassified data points are 21\n",
      "The error rate is 21.0 %\n"
     ]
    }
   ],
   "source": [
    "#Computation of classification error rate \n",
    "def Errorfucnt(data,mean):\n",
    "    error = 0\n",
    "    count = 0\n",
    "    for i in data:\n",
    "        d1 = sqrt((mean[0, 0] - i[0])**2 + (mean[0, 1] - i[1])**2)\n",
    "        d2 = sqrt((mean[1, 0] - i[0])**2 + (mean[1, 1] - i[1])**2)\n",
    "        if d1 < d2:\n",
    "            classify = 1\n",
    "        elif d2 < d1:\n",
    "            classify = 2\n",
    "        else:\n",
    "            classify = 0\n",
    "            \n",
    "        if classify != i[2]:\n",
    "            error += 1\n",
    "        count += 1\n",
    "    \n",
    "    error_rate = error/count * 100\n",
    "    print(\"The number of misclassified data points are\", error)\n",
    "    print(\"The error rate is\", error_rate, \"%\")\n",
    "    \n",
    "Errorfucnt(dataset,mean_arr)"
   ]
  },
  {
   "cell_type": "code",
   "execution_count": 5,
   "metadata": {
    "scrolled": true
   },
   "outputs": [
    {
     "name": "stdout",
     "output_type": "stream",
     "text": [
      "The number of misclassified data points are 24\n",
      "The error rate is 24.0 %\n"
     ]
    }
   ],
   "source": [
    "#Synthetic1 test dataset \n",
    "filename_1 = 'synthetic1_test.csv'\n",
    "dataset_1 = ld_csv(filename_1)\n",
    "for i in range(2):\n",
    "    str_to_float(dataset_1, i)\n",
    "str_to_int(dataset_1, 2)\n",
    "\n",
    "Errorfucnt(dataset_1,mean_arr)"
   ]
  },
  {
   "cell_type": "code",
   "execution_count": 6,
   "metadata": {},
   "outputs": [
    {
     "name": "stdout",
     "output_type": "stream",
     "text": [
      "The class means are as follows:\n",
      " [[-0.2032685   2.75522592]\n",
      " [ 0.13275594 -2.0526066 ]]\n"
     ]
    },
    {
     "data": {
      "image/png": "[encoded data removed]",
      "text/plain": [
       "<Figure size 432x288 with 1 Axes>"
      ]
     },
     "metadata": {
      "needs_background": "light"
     },
     "output_type": "display_data"
    },
    {
     "name": "stdout",
     "output_type": "stream",
     "text": [
      "The number of misclassified data points are 3\n",
      "The error rate is 3.0 %\n"
     ]
    }
   ],
   "source": [
    "#Synthetic2 training dataset   \n",
    "filename_2 = 'synthetic2_train.csv'\n",
    "dataset_2 = ld_csv(filename_2)\n",
    "for i in range(2):\n",
    "    str_to_float(dataset_2, i)\n",
    "str_to_int(dataset_2, 2)\n",
    "#print(dataset)\n",
    "\n",
    "#Compute the class means and classify data points using training dataset\n",
    "train_data = np.genfromtxt(filename_2, delimiter=',')\n",
    "col1 = train_data[:,0]\n",
    "col2 = train_data[:,1]\n",
    "class_labels = train_data[:,2]\n",
    "index1 = np.where(class_labels == 1)\n",
    "index2 = np.where(class_labels == 2)\n",
    "\n",
    "x1_1 = col1[index1]\n",
    "x2_1 = col2[index1]\n",
    "x1_2 = col1[index2]\n",
    "x2_2 = col2[index2]\n",
    "\n",
    "mean = [[np.mean(x1_1), np.mean(x2_1)], [np.mean(x1_2),np.mean(x2_2)]]     \n",
    "mean_arr = np.array(mean)\n",
    "print(\"The class means are as follows:\\n\", mean_arr)\n",
    "\n",
    "#plot shwoing classification of synthetic1 training dataset\n",
    "data_lst=[]\n",
    "label_lst=[]\n",
    "for i in dataset_2:\n",
    "    data_lst.append(i[0])\n",
    "    data_lst.append(i[1])\n",
    "    label_lst.append(i[2])\n",
    "label_arr = np.asarray(label_lst)\n",
    "data_arr = np.asarray(data_lst)\n",
    "data_len=int(len(data_arr)/2)\n",
    "train_pts = data_arr.reshape(data_len,2)\n",
    "\n",
    "plotDecBoundaries(train_pts, label_arr, mean_arr)\n",
    "\n",
    "Errorfucnt(dataset_2,mean_arr)"
   ]
  },
  {
   "cell_type": "code",
   "execution_count": 7,
   "metadata": {},
   "outputs": [
    {
     "name": "stdout",
     "output_type": "stream",
     "text": [
      "The number of misclassified data points are 4\n",
      "The error rate is 4.0 %\n"
     ]
    }
   ],
   "source": [
    "#Synthetic2 test dataset \n",
    "filename_3 = 'synthetic2_test.csv'\n",
    "dataset_3 = ld_csv(filename_3)\n",
    "for i in range(2):\n",
    "    str_to_float(dataset_3, i)\n",
    "str_to_int(dataset_3, 2)\n",
    "\n",
    "Errorfucnt(dataset_3,mean_arr)"
   ]
  },
  {
   "cell_type": "code",
   "execution_count": 8,
   "metadata": {},
   "outputs": [
    {
     "name": "stdout",
     "output_type": "stream",
     "text": [
      "The class means are as follows:\n",
      " [[13.675       1.904     ]\n",
      " [12.21457143  1.88885714]\n",
      " [13.17333333  3.28333333]]\n"
     ]
    },
    {
     "data": {
      "image/png": "[encoded data removed]",
      "text/plain": [
       "<Figure size 432x288 with 1 Axes>"
      ]
     },
     "metadata": {
      "needs_background": "light"
     },
     "output_type": "display_data"
    },
    {
     "name": "stdout",
     "output_type": "stream",
     "text": [
      "The number of misclassified data points are 18\n",
      "The error rate is 20.224719101123593 %\n"
     ]
    }
   ],
   "source": [
    "#Computation for wine dataset by picking the first two features\n",
    "#Wine training data set\n",
    "\n",
    "filename_4 = 'wine_train.csv'\n",
    "dataset_4 = ld_csv(filename_4)\n",
    "for i in range(13):\n",
    "    str_to_float(dataset_4, i)\n",
    "str_to_int(dataset_4, 13)\n",
    "\n",
    "#Compute the class means and classify data points using training dataset\n",
    "train_data = np.genfromtxt(filename_4, delimiter=',')\n",
    "col1 = train_data[:,0]\n",
    "col2 = train_data[:,1]\n",
    "class_labels = train_data[:,13]\n",
    "index1 = np.where(class_labels == 1)\n",
    "index2 = np.where(class_labels == 2)\n",
    "index3 = np.where(class_labels == 3)\n",
    "\n",
    "x1_1 = col1[index1]\n",
    "x2_1 = col2[index1]\n",
    "x1_2 = col1[index2]\n",
    "x2_2 = col2[index2]\n",
    "x1_3 = col1[index3]\n",
    "x2_3 = col2[index3]\n",
    "\n",
    "mean = [[np.mean(x1_1), np.mean(x2_1)], [np.mean(x1_2),np.mean(x2_2)],\n",
    "        [np.mean(x1_3),np.mean(x2_3)]]     \n",
    "mean_arr = np.array(mean)\n",
    "print(\"The class means are as follows:\\n\", mean_arr)\n",
    "\n",
    "\n",
    "#Plot the data points, resulting class means, decision boundaries and decision regions\n",
    "data_lst=[]\n",
    "label_lst=[]\n",
    "for i in dataset_4:\n",
    "    data_lst.append(i[0])\n",
    "    data_lst.append(i[1])\n",
    "    label_lst.append(i[13])\n",
    "label_arr = np.asarray(label_lst)\n",
    "data_arr = np.asarray(data_lst)\n",
    "data_len=int(len(data_arr)/2)\n",
    "train_pts = data_arr.reshape(data_len,2)\n",
    "\n",
    "plotDecBoundaries(train_pts, label_arr, mean_arr)\n",
    "\n",
    "#Computation of classification error rate \n",
    "def Errorfucnt_wine(data,mean):\n",
    "    error = 0\n",
    "    count = 0\n",
    "    for i in data:\n",
    "        d1 = sqrt((mean[0, 0] - i[0])**2 + (mean[0, 1] - i[1])**2)\n",
    "        d2 = sqrt((mean[1, 0] - i[0])**2 + (mean[1, 1] - i[1])**2)\n",
    "        d3 = sqrt((mean[2, 0] - i[0])**2 + (mean[2, 1] - i[1])**2)\n",
    "        if min(d1,d2,d3) == d1:\n",
    "            classify = 1\n",
    "        elif min(d1,d2,d3) == d2:\n",
    "            classify = 2\n",
    "        else:\n",
    "            classify = 3\n",
    "            \n",
    "        if classify != i[13]:\n",
    "            error += 1\n",
    "        count += 1\n",
    "    \n",
    "    error_rate = error/count * 100\n",
    "    print(\"The number of misclassified data points are\", error)\n",
    "    print(\"The error rate is\", error_rate, \"%\")\n",
    "    \n",
    "    \n",
    "Errorfucnt_wine(dataset_4,mean_arr)"
   ]
  },
  {
   "cell_type": "code",
   "execution_count": 9,
   "metadata": {},
   "outputs": [
    {
     "name": "stdout",
     "output_type": "stream",
     "text": [
      "The number of misclassified data points are 20\n",
      "The error rate is 22.47191011235955 %\n"
     ]
    }
   ],
   "source": [
    "#Wine test data set\n",
    "filename_5 = 'wine_test.csv'\n",
    "dataset_5 = ld_csv(filename_5)\n",
    "for i in range(13):\n",
    "    str_to_float(dataset_5, i)\n",
    "str_to_int(dataset_5, 13)\n",
    "\n",
    "Errorfucnt_wine(dataset_5,mean_arr)"
   ]
  },
  {
   "cell_type": "code",
   "execution_count": 10,
   "metadata": {},
   "outputs": [
    {
     "name": "stdout",
     "output_type": "stream",
     "text": [
      "The feature combination which provides the minimum classification error is: (1, 12)\n",
      "The number of misclassified data points along with the error rate(%) is: (7, 7.865168539325842)\n"
     ]
    },
    {
     "data": {
      "image/png": "[encoded data removed]",
      "text/plain": [
       "<Figure size 432x288 with 1 Axes>"
      ]
     },
     "metadata": {
      "needs_background": "light"
     },
     "output_type": "display_data"
    }
   ],
   "source": [
    "#Selecting best 2 features out of 13 that achieve the minimum classification error on the training set.\n",
    "\n",
    "filename_6 = 'wine_train.csv'\n",
    "dataset_6 = ld_csv(filename_6)\n",
    "for i in range(13):\n",
    "    str_to_float(dataset_6, i)\n",
    "str_to_int(dataset_6, 13)\n",
    "\n",
    "#Compute the class means and classify data points using training dataset\n",
    "def feat_select(n,m):\n",
    "    train_data = np.genfromtxt(filename_6, delimiter=',')\n",
    "    col1 = train_data[:,n]\n",
    "    col2 = train_data[:,m]\n",
    "    class_labels = train_data[:,13]\n",
    "    index1 = np.where(class_labels == 1)\n",
    "    index2 = np.where(class_labels == 2)\n",
    "    index3 = np.where(class_labels == 3)\n",
    "\n",
    "    x1_1 = col1[index1]\n",
    "    x2_1 = col2[index1]\n",
    "    x1_2 = col1[index2]\n",
    "    x2_2 = col2[index2]\n",
    "    x1_3 = col1[index3]\n",
    "    x2_3 = col2[index3]\n",
    "\n",
    "    mean = [[np.mean(x1_1), np.mean(x2_1)], [np.mean(x1_2),np.mean(x2_2)],\n",
    "        [np.mean(x1_3),np.mean(x2_3)]]   \n",
    "    mean_arr = np.array(mean)\n",
    "    return mean_arr\n",
    "\n",
    "#Computation of classification error rate \n",
    "def Errorfucnt_wine(l,k,data,mean):\n",
    "    error = 0\n",
    "    count = 0\n",
    "    err_lst = []\n",
    "    for i in data:\n",
    "        d1 = sqrt((mean[0, 0] - i[l])**2 + (mean[0, 1] - i[k])**2)\n",
    "        d2 = sqrt((mean[1, 0] - i[l])**2 + (mean[1, 1] - i[k])**2)\n",
    "        d3 = sqrt((mean[2, 0] - i[l])**2 + (mean[2, 1] - i[k])**2)\n",
    "        if (d1 < d2) and (d1 < d3):\n",
    "            classify = 1\n",
    "        elif (d2 < d1) and (d2 < d3):\n",
    "            classify = 2\n",
    "        else:\n",
    "            classify = 3\n",
    "            \n",
    "        if classify != i[13]:\n",
    "            error += 1\n",
    "        count += 1\n",
    "          \n",
    "    error_rate = error/count * 100\n",
    "    return (error,error_rate)\n",
    "    \n",
    "pos = []\n",
    "fin_error = []\n",
    "for i in range(0, 12):\n",
    "    for j in range(i+1, 13):\n",
    "        mean_samp = feat_select(i,j) #Returns mean vector of all the three classes \n",
    "        pos.append((i+1,j+1))\n",
    "        error = Errorfucnt_wine(i,j,dataset_6, mean_samp) #returns error \n",
    "        fin_error.append(error)\n",
    "        \n",
    "print(\"The feature combination which provides the minimum classification error is:\" , pos[fin_error.index(min(fin_error))])\n",
    "print(\"The number of misclassified data points along with the error rate(%) is:\", min(fin_error))\n",
    "\n",
    "#Plot the data points, resulting class means, decision boundaries and decision regions\n",
    "data_lst=[]\n",
    "label_lst=[]\n",
    "for i in dataset_6:\n",
    "    data_lst.append(i[0])\n",
    "    data_lst.append(i[11])\n",
    "    label_lst.append(i[13])\n",
    "label_arr = np.asarray(label_lst)\n",
    "data_arr = np.asarray(data_lst)\n",
    "data_len=int(len(data_arr)/2)\n",
    "train_pts = data_arr.reshape(data_len,2)\n",
    "\n",
    "plotDecBoundaries(train_pts, label_arr, feat_select(0,11))\n"
   ]
  },
  {
   "cell_type": "code",
   "execution_count": 11,
   "metadata": {},
   "outputs": [
    {
     "name": "stdout",
     "output_type": "stream",
     "text": [
      "The feature combination which provides the minimum classification error is: (1, 7)\n",
      "The number of misclassified data points along with the error rate(%) is: (10, 11.235955056179774)\n"
     ]
    }
   ],
   "source": [
    "#Wine training data set\n",
    "#Selecting best 2 features out of 13 that achieve the minimum classification error on the training set.\n",
    "\n",
    "filename_7 = 'wine_test.csv'\n",
    "dataset_7 = ld_csv(filename_7)\n",
    "for i in range(13):\n",
    "    str_to_float(dataset_7, i)\n",
    "str_to_int(dataset_7, 13)\n",
    "\n",
    "pos = []\n",
    "fin_error = []\n",
    "for i in range(0, 12):\n",
    "    for j in range(i+1, 13):\n",
    "        mean_samp = feat_select(i,j) #Returns mean vector of all the three classes \n",
    "        pos.append((i+1,j+1))\n",
    "        error = Errorfucnt_wine(i,j,dataset_7, mean_samp) #returns error \n",
    "        fin_error.append(error)\n",
    "        \n",
    "print(\"The feature combination which provides the minimum classification error is:\" , pos[fin_error.index(min(fin_error))])\n",
    "print(\"The number of misclassified data points along with the error rate(%) is:\", min(fin_error))\n"
   ]
  }
 ],
 "metadata": {
  "kernelspec": {
   "display_name": "Python 3",
   "language": "python",
   "name": "python3"
  },
  "language_info": {
   "codemirror_mode": {
    "name": "ipython",
    "version": 3
   },
   "file_extension": ".py",
   "mimetype": "text/x-python",
   "name": "python",
   "nbconvert_exporter": "python",
   "pygments_lexer": "ipython3",
   "version": "3.7.7"
  }
 },
 "nbformat": 4,
 "nbformat_minor": 4
}
